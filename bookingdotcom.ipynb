{
 "cells": [
  {
   "cell_type": "markdown",
   "metadata": {},
   "source": [
    "# Booking.com Feature Extraction\n",
    "---"
   ]
  },
  {
   "cell_type": "markdown",
   "metadata": {},
   "source": [
    "Download the file BookingDotCom_HotelReviews.xlsx from Canvas. This file contains over 515,000 guest reviews and rating of almost 1500 hotels across Europe scraped from popular hotel reservation website Booking.com. The text data was cleaned by removing unicode and punctuation and transformed to lower case. No other preprocessing was done. More information on each field is provided in the \"Data Description\" tab of the Excel file.\n",
    "\n",
    "        1. What are the top five hotel features (e.g., location, staff, etc.) that customers mention the most in positive reviews and top five features they mention most in negative reviews? Your identified features must make sense (e.g., \"great\" or \"negative\" are not features). (3 points)\n",
    "        \n",
    "        2. What are the top five features that customers prefer most if they are a solo traveler vs traveling with a group vs on a business trip vs a leisure trip vs traveling as a couple vs a family with young children. You will find these categories in the \"Tags\" column. There are a few more tags that we don't need. (2 points).\n",
    "\n",
    "        3. What are the top five features customers like most and top five features they complain about most about hotels in United Kingdom, France, Italy, and Spain? Country information is available inside Hotel_Address. (2 points)\n",
    "        \n",
    "        4. Create a dashboard with the following plots; (1) \"Top Five Hotels Overall\" with consistently high ratings, (2) Bottom Five Hotels Overall\" with consistently low ratings, (3) Five Most Improved Hotels\" with the highest improvement in average ratings from 2015 to 2017, showing their average ratings for each of the three years. (0.5+0.5+2 points).\n",
    "\n",
    "Write clear, compact, and understandable code with comment/markdown statements as appropriate. Non-working code or unnecessary code will be penalized. \n",
    "\n",
    "Submit your Jupyter file using the link below or provide a link to your Google Colab or Github file.\n"
   ]
  },
  {
   "cell_type": "code",
   "execution_count": 1,
   "metadata": {},
   "outputs": [],
   "source": [
    "# import packages to use\n",
    "import pandas as pd\n",
    "import pycountry\n",
    "import spacy\n",
    "from spacy import displacy\n",
    "# from collections import Counter\n",
    "import en_core_web_sm"
   ]
  },
  {
   "cell_type": "code",
   "execution_count": 2,
   "metadata": {},
   "outputs": [],
   "source": [
    "# load dataframe\n",
    "df = pd.read_excel(\"BookingDotCom_HotelReviews.xlsx\", sheet_name=\"Data\")\n",
    "\n",
    "# sample the first 1000 rows of df\n",
    "df = df[:1000]\n",
    "\n",
    "# rename df columns to lower case\n",
    "df.columns= df.columns.str.lower()"
   ]
  },
  {
   "cell_type": "code",
   "execution_count": 3,
   "metadata": {},
   "outputs": [],
   "source": [
    "df['positive_comments'] = df['positive_comments'].apply(lambda x: \" \".join(x.split()))\n",
    "df['negative_comments'] = df['negative_comments'].apply(lambda x: \" \".join(x.split()))"
   ]
  },
  {
   "cell_type": "code",
   "execution_count": 4,
   "metadata": {},
   "outputs": [
    {
     "data": {
      "text/plain": [
       "'\\nThere are mixed cases in the positive and negative comments columns, so we convert them to lower case.\\nThis helps in the next steps of processing\\n'"
      ]
     },
     "execution_count": 4,
     "metadata": {},
     "output_type": "execute_result"
    }
   ],
   "source": [
    "'''\n",
    "There are mixed cases in the positive and negative comments columns, so we convert them to lower case.\n",
    "This helps in the next steps of processing\n",
    "'''\n",
    "# df['positive_comments'] = df.positive_comments.lower()\n",
    "# df['positive_comments'] = df.positive_comments.lower()"
   ]
  },
  {
   "cell_type": "code",
   "execution_count": 5,
   "metadata": {},
   "outputs": [],
   "source": [
    "'''\n",
    "Create column with country name; we get the list of countries from the pycountry package\n",
    "and use the hotel_address column to extract country name\n",
    "'''\n",
    "\n",
    "df['country'] = df[\"hotel_address\"].apply(\n",
    "    lambda address: ' '.join([c.name for c in pycountry.countries if c.name in address])\n",
    "    )\n",
    "\n",
    "# use the review_date column to extract the year and store in new column\n",
    "df['year'] = pd.DatetimeIndex(df['review_date']).year"
   ]
  },
  {
   "cell_type": "code",
   "execution_count": 6,
   "metadata": {},
   "outputs": [],
   "source": [
    "'''\n",
    "In this step we deal with the tags column using the steps defined below:\n",
    "    1. Define tags we are interested in\n",
    "    2. Define a function to apply to tags column to remove tags we are not interested in by:\n",
    "            - Converting the individual row values to list (from string) e.g. \"[' Leisure trip ']\" -> [' leisure trip ']\n",
    "            - Strip the whitespaces from individual elements e.g. [' leisure trip ']-> ['leisure trip']\n",
    "            - Drop tags we are not interested in\n",
    "'''\n",
    "\n",
    "# customer tags we are interested in\n",
    "customer_tags = [\n",
    "    'solo traveler',\n",
    "    'group',\n",
    "    'business trip',\n",
    "    'leisure trip',\n",
    "    'couple',\n",
    "    'family with young children'\n",
    "]\n",
    "\n",
    "def clean_tag(x):\n",
    "\n",
    "    # convert value from string to a list\n",
    "    import ast\n",
    "    \n",
    "    myTags = ast.literal_eval(x.lower())\n",
    "\n",
    "    # strip whitespaces from elements and drop those we are not interested in\n",
    "    myTags = [customerTag.strip() for customerTag in myTags if customerTag.strip() in customer_tags]\n",
    "\n",
    "    return myTags\n",
    "\n",
    "\n",
    "# apply function to the tags column\n",
    "df['tags'] = df['tags'].apply(lambda x: clean_tag(x))"
   ]
  },
  {
   "cell_type": "code",
   "execution_count": 7,
   "metadata": {},
   "outputs": [],
   "source": [
    "'''\n",
    "Function that to apply to df.tags column to extract new columns for customer categories\n",
    "Lambda function will be used to apply this function to the column as in the steps below\n",
    "'''\n",
    "def split_tag(x:list, tagName:str) -> int:\n",
    "    \n",
    "    t = [1 if tagName in x else 0][0]\n",
    "    \n",
    "    return t\n",
    "\n",
    "# dictionary of column names and customer tags (as contained in df.tags values)\n",
    "tagDict = {\n",
    "    'solo_traveler' : 'solo traveler',\n",
    "    'group' : 'group',\n",
    "    'business_trip' : 'business trip',\n",
    "    'leisure_trip' : 'leisure trip',\n",
    "    'couple' : 'couple',\n",
    "    'family_with_young_children' : 'family with young children'\n",
    "}\n",
    "\n",
    "# applying function on tags column to get new separated columns\n",
    "for key, value in tagDict.items():\n",
    "    df[key] = df['tags'].apply(lambda x: split_tag(x, value))"
   ]
  },
  {
   "cell_type": "code",
   "execution_count": 8,
   "metadata": {},
   "outputs": [],
   "source": [
    "# drop columns we do not need for now\n",
    "colsToDrop = [\n",
    "    'hotel_address', \n",
    "    'review_date', \n",
    "    'reviewer_nationality', \n",
    "    'tags'\n",
    "    ]\n",
    "\n",
    "df.drop(columns=colsToDrop, inplace=True)"
   ]
  },
  {
   "cell_type": "markdown",
   "metadata": {},
   "source": [
    "1. Text Processing\n",
    "- Cleaning\n",
    "- Normalization\n",
    "- Tokenization\n",
    "- Removing stopwords\n",
    "- POS tagging\n",
    "- Named Entity Recognition\n",
    "- Lemmatization\n",
    "\n",
    "2. Feature Extraction\n",
    "- Bag of Words\n",
    "- TF-IDF\n",
    "- Word embeddings\n",
    "\n",
    "3. Modeling"
   ]
  },
  {
   "cell_type": "markdown",
   "metadata": {},
   "source": [
    "# NER"
   ]
  },
  {
   "cell_type": "code",
   "execution_count": 9,
   "metadata": {},
   "outputs": [],
   "source": [
    "nlp = en_core_web_sm.load()"
   ]
  },
  {
   "cell_type": "code",
   "execution_count": 10,
   "metadata": {},
   "outputs": [],
   "source": [
    "doc = nlp(df.positive_comments[10])"
   ]
  },
  {
   "cell_type": "code",
   "execution_count": 11,
   "metadata": {},
   "outputs": [
    {
     "data": {
      "text/plain": [
       "'Rooms were stunningly decorated and really spacious in the top of the building Pictures are of room 300 The true beauty of the building has been kept but modernised brilliantly Also the bath was lovely and big and inviting Great more for couples Restaurant menu was a bit pricey but there were loads of little eatery places nearby within walking distance and the tram stop into the centre was about a 6 minute walk away and only about 3 or 4 stops from the centre of Amsterdam Would recommend this hotel to anyone it s unbelievably well priced too'"
      ]
     },
     "execution_count": 11,
     "metadata": {},
     "output_type": "execute_result"
    }
   ],
   "source": [
    "doc.text"
   ]
  },
  {
   "cell_type": "code",
   "execution_count": 12,
   "metadata": {},
   "outputs": [
    {
     "data": {
      "text/plain": [
       "[Rooms were stunningly decorated and really spacious in the top of the building Pictures are of room 300,\n",
       " The true beauty of the building has been kept but modernised brilliantly Also the bath was lovely and big and inviting Great more for couples Restaurant menu was a bit pricey but there were loads of little eatery places nearby within walking distance and the tram stop into the centre was about a 6 minute walk away and only about 3 or 4 stops from the centre of Amsterdam Would recommend this hotel to anyone it s unbelievably well priced too]"
      ]
     },
     "execution_count": 12,
     "metadata": {},
     "output_type": "execute_result"
    }
   ],
   "source": [
    "spSent = list(doc.sents)\n",
    "spSent"
   ]
  },
  {
   "cell_type": "code",
   "execution_count": 13,
   "metadata": {},
   "outputs": [
    {
     "name": "stdout",
     "output_type": "stream",
     "text": [
      "['Rooms', 'were', 'stunningly', 'decorated', 'and', 'really', 'spacious', 'in', 'the', 'top', 'of', 'the', 'building', 'Pictures', 'are', 'of', 'room', '300', 'The', 'true', 'beauty', 'of', 'the', 'building', 'has', 'been', 'kept', 'but', 'modernised', 'brilliantly', 'Also', 'the', 'bath', 'was', 'lovely', 'and', 'big', 'and', 'inviting', 'Great', 'more', 'for', 'couples', 'Restaurant', 'menu', 'was', 'a', 'bit', 'pricey', 'but', 'there', 'were', 'loads', 'of', 'little', 'eatery', 'places', 'nearby', 'within', 'walking', 'distance', 'and', 'the', 'tram', 'stop', 'into', 'the', 'centre', 'was', 'about', 'a', '6', 'minute', 'walk', 'away', 'and', 'only', 'about', '3', 'or', '4', 'stops', 'from', 'the', 'centre', 'of', 'Amsterdam', 'Would', 'recommend', 'this', 'hotel', 'to', 'anyone', 'it', 's', 'unbelievably', 'well', 'priced', 'too']\n"
     ]
    }
   ],
   "source": [
    "spWords = [w.text for w in doc]\n",
    "print(spWords)"
   ]
  },
  {
   "cell_type": "code",
   "execution_count": 14,
   "metadata": {},
   "outputs": [
    {
     "data": {
      "text/plain": [
       "48"
      ]
     },
     "execution_count": 14,
     "metadata": {},
     "output_type": "execute_result"
    }
   ],
   "source": [
    "spCleanWords = [w.text for w in doc\n",
    "           if not w.is_stop and not w.is_punct]\n",
    "len(spCleanWords)"
   ]
  },
  {
   "cell_type": "code",
   "execution_count": null,
   "metadata": {},
   "outputs": [],
   "source": [
    "print(spCleanWords)"
   ]
  },
  {
   "cell_type": "code",
   "execution_count": 15,
   "metadata": {},
   "outputs": [
    {
     "name": "stdout",
     "output_type": "stream",
     "text": [
      "Counter({'building': 2, 'centre': 2, 'Rooms': 1, 'stunningly': 1, 'decorated': 1, 'spacious': 1, 'Pictures': 1, 'room': 1, '300': 1, 'true': 1, 'beauty': 1, 'kept': 1, 'modernised': 1, 'brilliantly': 1, 'bath': 1, 'lovely': 1, 'big': 1, 'inviting': 1, 'Great': 1, 'couples': 1, 'Restaurant': 1, 'menu': 1, 'bit': 1, 'pricey': 1, 'loads': 1, 'little': 1, 'eatery': 1, 'places': 1, 'nearby': 1, 'walking': 1, 'distance': 1, 'tram': 1, 'stop': 1, '6': 1, 'minute': 1, 'walk': 1, 'away': 1, '3': 1, '4': 1, 'stops': 1, 'Amsterdam': 1, 'recommend': 1, 'hotel': 1, 's': 1, 'unbelievably': 1, 'priced': 1})\n"
     ]
    }
   ],
   "source": [
    "# Word frequency\n",
    "from collections import Counter\n",
    "spCleanWordFreq = Counter(spCleanWords)\n",
    "print(spCleanWordFreq)"
   ]
  },
  {
   "cell_type": "code",
   "execution_count": 16,
   "metadata": {},
   "outputs": [
    {
     "data": {
      "text/plain": [
       "[('building', 2),\n",
       " ('centre', 2),\n",
       " ('Rooms', 1),\n",
       " ('stunningly', 1),\n",
       " ('decorated', 1)]"
      ]
     },
     "execution_count": 16,
     "metadata": {},
     "output_type": "execute_result"
    }
   ],
   "source": [
    "spCleanWordFreq.most_common(5)"
   ]
  },
  {
   "cell_type": "code",
   "execution_count": 17,
   "metadata": {},
   "outputs": [
    {
     "data": {
      "text/plain": [
       "['building', 'centre']"
      ]
     },
     "execution_count": 17,
     "metadata": {},
     "output_type": "execute_result"
    }
   ],
   "source": [
    "# Words occurring twice or more\n",
    "spFreqCleanWords = [w for (w, freq) in spCleanWordFreq.items() if freq > 1]\n",
    "spFreqCleanWords"
   ]
  },
  {
   "cell_type": "code",
   "execution_count": 18,
   "metadata": {},
   "outputs": [
    {
     "name": "stdout",
     "output_type": "stream",
     "text": [
      "Rooms room\n",
      "were be\n",
      "stunningly stunningly\n",
      "decorated decorate\n",
      "and and\n",
      "really really\n",
      "spacious spacious\n",
      "in in\n",
      "the the\n",
      "top top\n",
      "of of\n",
      "the the\n",
      "building building\n",
      "Pictures Pictures\n",
      "are be\n",
      "of of\n",
      "room room\n",
      "300 300\n",
      "The the\n",
      "true true\n",
      "beauty beauty\n",
      "of of\n",
      "the the\n",
      "building building\n",
      "has have\n",
      "been be\n",
      "kept keep\n",
      "but but\n",
      "modernised modernise\n",
      "brilliantly brilliantly\n",
      "Also also\n",
      "the the\n",
      "bath bath\n",
      "was be\n",
      "lovely lovely\n",
      "and and\n",
      "big big\n",
      "and and\n",
      "inviting invite\n",
      "Great great\n",
      "more more\n",
      "for for\n",
      "couples couple\n",
      "Restaurant restaurant\n",
      "menu menu\n",
      "was be\n",
      "a a\n",
      "bit bit\n",
      "pricey pricey\n",
      "but but\n",
      "there there\n",
      "were be\n",
      "loads load\n",
      "of of\n",
      "little little\n",
      "eatery eatery\n",
      "places place\n",
      "nearby nearby\n",
      "within within\n",
      "walking walk\n",
      "distance distance\n",
      "and and\n",
      "the the\n",
      "tram tram\n",
      "stop stop\n",
      "into into\n",
      "the the\n",
      "centre centre\n",
      "was be\n",
      "about about\n",
      "a a\n",
      "6 6\n",
      "minute minute\n",
      "walk walk\n",
      "away away\n",
      "and and\n",
      "only only\n",
      "about about\n",
      "3 3\n",
      "or or\n",
      "4 4\n",
      "stops stop\n",
      "from from\n",
      "the the\n",
      "centre centre\n",
      "of of\n",
      "Amsterdam Amsterdam\n",
      "Would would\n",
      "recommend recommend\n",
      "this this\n",
      "hotel hotel\n",
      "to to\n",
      "anyone anyone\n",
      "it it\n",
      "s s\n",
      "unbelievably unbelievably\n",
      "well well\n",
      "priced price\n",
      "too too\n"
     ]
    }
   ],
   "source": [
    "# lemmatization\n",
    "for w in doc:\n",
    "     print (w, w.lemma_)"
   ]
  },
  {
   "cell_type": "code",
   "execution_count": 19,
   "metadata": {},
   "outputs": [
    {
     "data": {
      "text/plain": [
       "'Rooms stunningly decorated spacious building Pictures room 300 true beauty building kept modernised brilliantly bath lovely big inviting Great couples Restaurant menu bit pricey loads little eatery places nearby walking distance tram stop centre 6 minute walk away 3 4 stops centre Amsterdam recommend hotel s unbelievably priced'"
      ]
     },
     "execution_count": 19,
     "metadata": {},
     "output_type": "execute_result"
    }
   ],
   "source": [
    "CleanSentence = ' '.join(spCleanWords).strip()\n",
    "CleanSentence"
   ]
  },
  {
   "cell_type": "code",
   "execution_count": 20,
   "metadata": {},
   "outputs": [
    {
     "name": "stdout",
     "output_type": "stream",
     "text": [
      "['room', 'stunningly', 'decorate', 'spacious', 'building', 'Pictures', 'room', '300', 'true', 'beauty', 'building', 'keep', 'modernise', 'brilliantly', 'bath', 'lovely', 'big', 'invite', 'great', 'couple', 'restaurant', 'menu', 'bit', 'pricey', 'load', 'little', 'eatery', 'place', 'nearby', 'walk', 'distance', 'tram', 'stop', 'centre', '6', 'minute', 'walk', 'away', '3', '4', 'stop', 'centre', 'Amsterdam', 'recommend', 'hotel', 's', 'unbelievably', 'price']\n"
     ]
    }
   ],
   "source": [
    "spCleanSentence = nlp(CleanSentence)\n",
    "spCleanWords = []\n",
    "\n",
    "for w in spCleanSentence:\n",
    "    spCleanWords.append(w.lemma_)\n",
    "\n",
    "print(spCleanWords)"
   ]
  },
  {
   "cell_type": "code",
   "execution_count": 21,
   "metadata": {},
   "outputs": [
    {
     "name": "stdout",
     "output_type": "stream",
     "text": [
      "Rooms NOUN NNS noun, plural\n",
      "were AUX VBD verb, past tense\n",
      "stunningly ADV RB adverb\n",
      "decorated VERB VBN verb, past participle\n",
      "and CCONJ CC conjunction, coordinating\n",
      "really ADV RB adverb\n",
      "spacious ADJ JJ adjective (English), other noun-modifier (Chinese)\n",
      "in ADP IN conjunction, subordinating or preposition\n",
      "the DET DT determiner\n",
      "top NOUN NN noun, singular or mass\n",
      "of ADP IN conjunction, subordinating or preposition\n",
      "the DET DT determiner\n",
      "building NOUN NN noun, singular or mass\n",
      "Pictures PROPN NNPS noun, proper plural\n",
      "are AUX VBP verb, non-3rd person singular present\n",
      "of ADP IN conjunction, subordinating or preposition\n",
      "room NOUN NN noun, singular or mass\n",
      "300 NUM CD cardinal number\n",
      "The DET DT determiner\n",
      "true ADJ JJ adjective (English), other noun-modifier (Chinese)\n",
      "beauty NOUN NN noun, singular or mass\n",
      "of ADP IN conjunction, subordinating or preposition\n",
      "the DET DT determiner\n",
      "building NOUN NN noun, singular or mass\n",
      "has AUX VBZ verb, 3rd person singular present\n",
      "been AUX VBN verb, past participle\n",
      "kept VERB VBN verb, past participle\n",
      "but CCONJ CC conjunction, coordinating\n",
      "modernised VERB VBD verb, past tense\n",
      "brilliantly ADV RB adverb\n",
      "Also ADV RB adverb\n",
      "the DET DT determiner\n",
      "bath NOUN NN noun, singular or mass\n",
      "was AUX VBD verb, past tense\n",
      "lovely ADJ JJ adjective (English), other noun-modifier (Chinese)\n",
      "and CCONJ CC conjunction, coordinating\n",
      "big ADJ JJ adjective (English), other noun-modifier (Chinese)\n",
      "and CCONJ CC conjunction, coordinating\n",
      "inviting VERB VBG verb, gerund or present participle\n",
      "Great ADJ JJ adjective (English), other noun-modifier (Chinese)\n",
      "more ADJ JJR adjective, comparative\n",
      "for SCONJ IN conjunction, subordinating or preposition\n",
      "couples NOUN NNS noun, plural\n",
      "Restaurant NOUN NN noun, singular or mass\n",
      "menu NOUN NN noun, singular or mass\n",
      "was AUX VBD verb, past tense\n",
      "a DET DT determiner\n",
      "bit NOUN NN noun, singular or mass\n",
      "pricey ADJ JJ adjective (English), other noun-modifier (Chinese)\n",
      "but CCONJ CC conjunction, coordinating\n",
      "there PRON EX existential there\n",
      "were VERB VBD verb, past tense\n",
      "loads NOUN NNS noun, plural\n",
      "of ADP IN conjunction, subordinating or preposition\n",
      "little ADJ JJ adjective (English), other noun-modifier (Chinese)\n",
      "eatery NOUN NN noun, singular or mass\n",
      "places NOUN NNS noun, plural\n",
      "nearby ADV RB adverb\n",
      "within ADP IN conjunction, subordinating or preposition\n",
      "walking VERB VBG verb, gerund or present participle\n",
      "distance NOUN NN noun, singular or mass\n",
      "and CCONJ CC conjunction, coordinating\n",
      "the DET DT determiner\n",
      "tram PROPN NNP noun, proper singular\n",
      "stop VERB VB verb, base form\n",
      "into ADP IN conjunction, subordinating or preposition\n",
      "the DET DT determiner\n",
      "centre NOUN NN noun, singular or mass\n",
      "was AUX VBD verb, past tense\n",
      "about ADV RB adverb\n",
      "a DET DT determiner\n",
      "6 NUM CD cardinal number\n",
      "minute NOUN NN noun, singular or mass\n",
      "walk NOUN NN noun, singular or mass\n",
      "away ADV RB adverb\n",
      "and CCONJ CC conjunction, coordinating\n",
      "only ADV RB adverb\n",
      "about ADV RB adverb\n",
      "3 NUM CD cardinal number\n",
      "or CCONJ CC conjunction, coordinating\n",
      "4 NUM CD cardinal number\n",
      "stops NOUN NNS noun, plural\n",
      "from ADP IN conjunction, subordinating or preposition\n",
      "the DET DT determiner\n",
      "centre NOUN NN noun, singular or mass\n",
      "of ADP IN conjunction, subordinating or preposition\n",
      "Amsterdam PROPN NNP noun, proper singular\n",
      "Would AUX MD verb, modal auxiliary\n",
      "recommend VERB VB verb, base form\n",
      "this DET DT determiner\n",
      "hotel NOUN NN noun, singular or mass\n",
      "to ADP IN conjunction, subordinating or preposition\n",
      "anyone PRON NN noun, singular or mass\n",
      "it PRON PRP pronoun, personal\n",
      "s VERB VBZ verb, 3rd person singular present\n",
      "unbelievably ADV RB adverb\n",
      "well ADV RB adverb\n",
      "priced VERB VBN verb, past participle\n",
      "too ADV RB adverb\n"
     ]
    }
   ],
   "source": [
    "for w in doc:\n",
    "     print (w, w.pos_, w.tag_, spacy.explain(w.tag_))"
   ]
  },
  {
   "cell_type": "code",
   "execution_count": 22,
   "metadata": {},
   "outputs": [
    {
     "data": {
      "text/plain": [
       "[Rooms,\n",
       " top,\n",
       " building,\n",
       " room,\n",
       " beauty,\n",
       " building,\n",
       " bath,\n",
       " couples,\n",
       " Restaurant,\n",
       " menu,\n",
       " bit,\n",
       " loads,\n",
       " eatery,\n",
       " places,\n",
       " distance,\n",
       " centre,\n",
       " minute,\n",
       " walk,\n",
       " stops,\n",
       " centre,\n",
       " hotel]"
      ]
     },
     "execution_count": 22,
     "metadata": {},
     "output_type": "execute_result"
    }
   ],
   "source": [
    "# Extracting nouns using POS tags\n",
    "\n",
    "spNouns = []\n",
    "for w in doc:\n",
    "     if w.pos_ == 'NOUN':\n",
    "         spNouns.append(w)\n",
    "\n",
    "spNouns"
   ]
  },
  {
   "cell_type": "code",
   "execution_count": 23,
   "metadata": {},
   "outputs": [
    {
     "name": "stdout",
     "output_type": "stream",
     "text": [
      "Rooms NNS decorated nsubjpass\n",
      "were VBD decorated auxpass\n",
      "stunningly RB decorated advmod\n",
      "decorated VBN decorated ROOT\n",
      "and CC decorated cc\n",
      "really RB spacious advmod\n",
      "spacious JJ decorated conj\n",
      "in IN spacious prep\n",
      "the DT top det\n",
      "top NN in pobj\n",
      "of IN top prep\n",
      "the DT building det\n",
      "building NN of pobj\n",
      "Pictures NNPS are nsubj\n",
      "are VBP decorated conj\n",
      "of IN are prep\n",
      "room NN of pobj\n",
      "300 CD room nummod\n",
      "The DT beauty det\n",
      "true JJ beauty amod\n",
      "beauty NN kept nsubjpass\n",
      "of IN beauty prep\n",
      "the DT building det\n",
      "building NN of pobj\n",
      "has VBZ kept aux\n",
      "been VBN kept auxpass\n",
      "kept VBN s ccomp\n",
      "but CC kept cc\n",
      "modernised VBD kept conj\n",
      "brilliantly RB modernised advmod\n",
      "Also RB was advmod\n",
      "the DT bath det\n",
      "bath NN was nsubj\n",
      "was VBD kept conj\n",
      "lovely JJ was acomp\n",
      "and CC lovely cc\n",
      "big JJ lovely conj\n",
      "and CC big cc\n",
      "inviting VBG big conj\n",
      "Great JJ inviting dobj\n",
      "more JJR inviting dobj\n",
      "for IN was mark\n",
      "couples NNS menu compound\n",
      "Restaurant NN menu compound\n",
      "menu NN was nsubj\n",
      "was VBD was advcl\n",
      "a DT bit det\n",
      "bit NN pricey npadvmod\n",
      "pricey JJ was acomp\n",
      "but CC kept cc\n",
      "there EX were expl\n",
      "were VBD kept conj\n",
      "loads NNS were attr\n",
      "of IN loads prep\n",
      "little JJ places amod\n",
      "eatery NN places compound\n",
      "places NNS of pobj\n",
      "nearby RB were advmod\n",
      "within IN nearby prep\n",
      "walking VBG distance compound\n",
      "distance NN within pobj\n",
      "and CC were cc\n",
      "the DT tram det\n",
      "tram NNP stop nsubj\n",
      "stop VB were conj\n",
      "into IN stop prep\n",
      "the DT centre det\n",
      "centre NN into pobj\n",
      "was VBD were conj\n",
      "about RB walk advmod\n",
      "a DT walk det\n",
      "6 CD minute nummod\n",
      "minute NN walk compound\n",
      "walk NN was attr\n",
      "away RB walk advmod\n",
      "and CC away cc\n",
      "only RB 3 advmod\n",
      "about RB 3 advmod\n",
      "3 CD stops nummod\n",
      "or CC 3 cc\n",
      "4 CD 3 conj\n",
      "stops NNS recommend nsubj\n",
      "from IN stops prep\n",
      "the DT centre det\n",
      "centre NN from pobj\n",
      "of IN centre prep\n",
      "Amsterdam NNP of pobj\n",
      "Would MD recommend aux\n",
      "recommend VB kept conj\n",
      "this DT hotel det\n",
      "hotel NN recommend dobj\n",
      "to IN recommend prep\n",
      "anyone NN to pobj\n",
      "it PRP s nsubj\n",
      "s VBZ s ROOT\n",
      "unbelievably RB s advmod\n",
      "well RB priced advmod\n",
      "priced VBN s acomp\n",
      "too RB priced advmod\n"
     ]
    }
   ],
   "source": [
    "# dependency parsing\n",
    "sentence = doc\n",
    "spSentence = nlp(sentence)\n",
    "\n",
    "for w in spSentence:\n",
    "     print (w.text, w.tag_, w.head.text, w.dep_)"
   ]
  },
  {
   "cell_type": "code",
   "execution_count": 24,
   "metadata": {},
   "outputs": [
    {
     "name": "stdout",
     "output_type": "stream",
     "text": [
      "Rooms\n",
      "the top\n",
      "the building\n",
      "Pictures\n",
      "room\n",
      "The true beauty\n",
      "the building\n",
      "the bath\n",
      "couples Restaurant menu\n",
      "loads\n",
      "little eatery places\n",
      "walking distance\n",
      "the tram\n",
      "the centre\n",
      "about a 6 minute walk\n",
      "only about 3 or 4 stops\n",
      "the centre\n",
      "Amsterdam\n",
      "this hotel\n",
      "anyone\n",
      "it\n"
     ]
    }
   ],
   "source": [
    "# shallow parsing\n",
    "for chunk in doc.noun_chunks:\n",
    "     print (chunk)"
   ]
  },
  {
   "cell_type": "code",
   "execution_count": 25,
   "metadata": {},
   "outputs": [
    {
     "name": "stdout",
     "output_type": "stream",
     "text": [
      "300 100 103 CARDINAL Numerals that do not fall under another type\n",
      "6 minute 401 409 TIME Times smaller than a day\n",
      "only about 3 424 436 CARDINAL Numerals that do not fall under another type\n",
      "4 440 441 CARDINAL Numerals that do not fall under another type\n",
      "Amsterdam 467 476 GPE Countries, cities, states\n"
     ]
    }
   ],
   "source": [
    "# NER\n",
    "for ent in doc.ents:\n",
    "     print(ent.text, ent.start_char, ent.end_char,\n",
    "           ent.label_, spacy.explain(ent.label_))"
   ]
  },
  {
   "cell_type": "code",
   "execution_count": 26,
   "metadata": {},
   "outputs": [
    {
     "data": {
      "text/html": [
       "<span class=\"tex2jax_ignore\"><div class=\"entities\" style=\"line-height: 2.5; direction: ltr\">Rooms were stunningly decorated and really spacious in the top of the building Pictures are of room \n",
       "<mark class=\"entity\" style=\"background: #e4e7d2; padding: 0.45em 0.6em; margin: 0 0.25em; line-height: 1; border-radius: 0.35em;\">\n",
       "    300\n",
       "    <span style=\"font-size: 0.8em; font-weight: bold; line-height: 1; border-radius: 0.35em; vertical-align: middle; margin-left: 0.5rem\">CARDINAL</span>\n",
       "</mark>\n",
       " The true beauty of the building has been kept but modernised brilliantly Also the bath was lovely and big and inviting Great more for couples Restaurant menu was a bit pricey but there were loads of little eatery places nearby within walking distance and the tram stop into the centre was about a \n",
       "<mark class=\"entity\" style=\"background: #bfe1d9; padding: 0.45em 0.6em; margin: 0 0.25em; line-height: 1; border-radius: 0.35em;\">\n",
       "    6 minute\n",
       "    <span style=\"font-size: 0.8em; font-weight: bold; line-height: 1; border-radius: 0.35em; vertical-align: middle; margin-left: 0.5rem\">TIME</span>\n",
       "</mark>\n",
       " walk away and \n",
       "<mark class=\"entity\" style=\"background: #e4e7d2; padding: 0.45em 0.6em; margin: 0 0.25em; line-height: 1; border-radius: 0.35em;\">\n",
       "    only about 3\n",
       "    <span style=\"font-size: 0.8em; font-weight: bold; line-height: 1; border-radius: 0.35em; vertical-align: middle; margin-left: 0.5rem\">CARDINAL</span>\n",
       "</mark>\n",
       " or \n",
       "<mark class=\"entity\" style=\"background: #e4e7d2; padding: 0.45em 0.6em; margin: 0 0.25em; line-height: 1; border-radius: 0.35em;\">\n",
       "    4\n",
       "    <span style=\"font-size: 0.8em; font-weight: bold; line-height: 1; border-radius: 0.35em; vertical-align: middle; margin-left: 0.5rem\">CARDINAL</span>\n",
       "</mark>\n",
       " stops from the centre of \n",
       "<mark class=\"entity\" style=\"background: #feca74; padding: 0.45em 0.6em; margin: 0 0.25em; line-height: 1; border-radius: 0.35em;\">\n",
       "    Amsterdam\n",
       "    <span style=\"font-size: 0.8em; font-weight: bold; line-height: 1; border-radius: 0.35em; vertical-align: middle; margin-left: 0.5rem\">GPE</span>\n",
       "</mark>\n",
       " Would recommend this hotel to anyone it s unbelievably well priced too</div></span>"
      ],
      "text/plain": [
       "<IPython.core.display.HTML object>"
      ]
     },
     "metadata": {},
     "output_type": "display_data"
    }
   ],
   "source": [
    "displacy.render(doc, style='ent', jupyter=True, options={'distance': 75})"
   ]
  },
  {
   "cell_type": "code",
   "execution_count": 27,
   "metadata": {},
   "outputs": [
    {
     "name": "stdout",
     "output_type": "stream",
     "text": [
      "Rooms\n",
      "the top\n",
      "the building\n",
      "Pictures\n",
      "room\n",
      "The true beauty\n",
      "the building\n",
      "the bath\n",
      "couples Restaurant menu\n",
      "loads\n",
      "little eatery places\n",
      "walking distance\n",
      "the tram\n",
      "the centre\n",
      "about a 6 minute walk\n",
      "only about 3 or 4 stops\n",
      "the centre\n",
      "Amsterdam\n",
      "this hotel\n",
      "anyone\n",
      "it\n"
     ]
    }
   ],
   "source": [
    "# noun phrase detection\n",
    "for chunk in doc.noun_chunks:\n",
    "     print (chunk)"
   ]
  },
  {
   "cell_type": "markdown",
   "metadata": {},
   "source": [
    "# Coreference resolution\n",
    "https://towardsdatascience.com/from-text-to-knowledge-the-information-extraction-pipeline-b65e7e30273e"
   ]
  },
  {
   "cell_type": "markdown",
   "metadata": {},
   "source": [
    "# Bi-grams\n",
    "\n",
    "https://medium.com/analytics-vidhya/feature-extraction-and-sentiment-analysis-of-reviews-of-3-apps-in-india-84b665e1a887"
   ]
  },
  {
   "cell_type": "code",
   "execution_count": null,
   "metadata": {},
   "outputs": [],
   "source": []
  }
 ],
 "metadata": {
  "kernelspec": {
   "display_name": "Python 3.9.13 64-bit (microsoft store)",
   "language": "python",
   "name": "python3"
  },
  "language_info": {
   "codemirror_mode": {
    "name": "ipython",
    "version": 3
   },
   "file_extension": ".py",
   "mimetype": "text/x-python",
   "name": "python",
   "nbconvert_exporter": "python",
   "pygments_lexer": "ipython3",
   "version": "3.9.13"
  },
  "orig_nbformat": 4,
  "vscode": {
   "interpreter": {
    "hash": "bfe9ce709e982859ebd8c1b094ee35d9f73a27801040ad55cc46450c9d5cadda"
   }
  }
 },
 "nbformat": 4,
 "nbformat_minor": 2
}
