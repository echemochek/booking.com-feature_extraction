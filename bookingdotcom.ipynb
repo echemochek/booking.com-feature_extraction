{
 "cells": [
  {
   "cell_type": "markdown",
   "metadata": {},
   "source": [
    "# Booking.com Feature Extraction\n",
    "---"
   ]
  },
  {
   "cell_type": "markdown",
   "metadata": {},
   "source": [
    "Download the file BookingDotCom_HotelReviews.xlsx from Canvas. This file contains over 515,000 guest reviews and rating of almost 1500 hotels across Europe scraped from popular hotel reservation website Booking.com. The text data was cleaned by removing unicode and punctuation and transformed to lower case. No other preprocessing was done. More information on each field is provided in the \"Data Description\" tab of the Excel file.\n",
    "\n",
    "        1. What are the top five hotel features (e.g., location, staff, etc.) that customers mention the most in positive reviews and top five features they mention most in negative reviews? Your identified features must make sense (e.g., \"great\" or \"negative\" are not features). (3 points)\n",
    "        \n",
    "        2. What are the top five features that customers prefer most if they are a solo traveler vs traveling with a group vs on a business trip vs a leisure trip vs traveling as a couple vs a family with young children. You will find these categories in the \"Tags\" column. There are a few more tags that we don't need. (2 points).\n",
    "\n",
    "        3. What are the top five features customers like most and top five features they complain about most about hotels in United Kingdom, France, Italy, and Spain? Country information is available inside Hotel_Address. (2 points)\n",
    "        \n",
    "        4. Create a dashboard with the following plots; (1) \"Top Five Hotels Overall\" with consistently high ratings, (2) Bottom Five Hotels Overall\" with consistently low ratings, (3) Five Most Improved Hotels\" with the highest improvement in average ratings from 2015 to 2017, showing their average ratings for each of the three years. (0.5+0.5+2 points).\n",
    "\n",
    "Write clear, compact, and understandable code with comment/markdown statements as appropriate. Non-working code or unnecessary code will be penalized. \n",
    "\n",
    "Submit your Jupyter file using the link below or provide a link to your Google Colab or Github file.\n"
   ]
  },
  {
   "cell_type": "code",
   "execution_count": 2,
   "metadata": {},
   "outputs": [],
   "source": [
    "# import packages to use\n",
    "import pandas as pd\n",
    "import re\n",
    "import pycountry\n",
    "import ast\n",
    "import spacy\n",
    "from sklearn.feature_extraction.text  import CountVectorizer"
   ]
  },
  {
   "cell_type": "markdown",
   "metadata": {},
   "source": [
    "### Load dataframe"
   ]
  },
  {
   "cell_type": "code",
   "execution_count": 3,
   "metadata": {},
   "outputs": [],
   "source": [
    "df = pd.read_excel(\"BookingDotCom_HotelReviews.xlsx\", sheet_name=\"Data\") # original file\n",
    "\n",
    "# df = pd.read_csv(\"dfProcessed.csv\") # saved from executing the steps in this notebook\n",
    "\n",
    "# sample the first 1000 rows of df\n",
    "df = df[:15000]\n",
    "\n",
    "# rename df columns to lower case\n",
    "df.columns= df.columns.str.lower()"
   ]
  },
  {
   "cell_type": "markdown",
   "metadata": {},
   "source": [
    "### Remove numbers from text using regular expressions"
   ]
  },
  {
   "cell_type": "code",
   "execution_count": 4,
   "metadata": {},
   "outputs": [],
   "source": [
    "df['positive_comments'] = df['positive_comments'].apply(lambda x: re.sub(r'\\d+', '', str(x)))\n",
    "df['negative_comments'] = df['negative_comments'].apply(lambda x: re.sub(r'\\d+', '', str(x)))"
   ]
  },
  {
   "cell_type": "markdown",
   "metadata": {},
   "source": [
    "### Lemmatize, remove stopwords and convert to lowercase using spaCy"
   ]
  },
  {
   "cell_type": "code",
   "execution_count": 5,
   "metadata": {},
   "outputs": [],
   "source": [
    "load_model = spacy.load('en_core_web_sm', disable = ['parser','ner'])\n",
    "\n",
    "# remove stopwords\n",
    "myStopwords = list(load_model.Defaults.stop_words)\n",
    "myStopwords.append('negative')\n",
    "myStopwords.append('positive')\n",
    "myStopwords.append('hotel')\n",
    "#.append('positive'), 'stay', 'hotel', 'night', 'book', 'com')\n",
    "\n",
    "def lemmaFunc(text):\n",
    "    doc = load_model(text)\n",
    "    allowed_tags = ['NOUN', 'PROPN']        # to get only nouns and proper nouns\n",
    "    return \" \".join([token.lemma_.lower() for token in doc if token.pos_ in allowed_tags \\\n",
    "                          and token.text.lower() not in myStopwords\n",
    "                          ])\n",
    "\n",
    "df['positive_comments'] = df['positive_comments'].apply(lambda x: lemmaFunc(x))\n",
    "df['negative_comments'] = df['negative_comments'].apply(lambda x: lemmaFunc(x))"
   ]
  },
  {
   "cell_type": "markdown",
   "metadata": {},
   "source": [
    "### Create a column of country names"
   ]
  },
  {
   "cell_type": "code",
   "execution_count": 6,
   "metadata": {},
   "outputs": [],
   "source": [
    "# we get the list of countries from the pycountry package and use the hotel_address column to extract country name\n",
    "df['country'] = df[\"hotel_address\"].apply(\n",
    "    lambda address: ' '.join([c.name for c in pycountry.countries if c.name in address])\n",
    "    )\n",
    "\n",
    "# use the review_date column to extract the year and store in new column\n",
    "df['year'] = pd.DatetimeIndex(df['review_date']).year"
   ]
  },
  {
   "cell_type": "markdown",
   "metadata": {},
   "source": [
    "### Get customer groupings from column of tags"
   ]
  },
  {
   "cell_type": "code",
   "execution_count": 7,
   "metadata": {},
   "outputs": [],
   "source": [
    "'''\n",
    "In this step we deal with the tags column using the steps defined below:\n",
    "    1. Define tags we are interested in\n",
    "    2. Define a function to apply to tags column to remove tags we are not interested in by:\n",
    "            - Converting the individual row values to list (from string) e.g. \"[' Leisure trip ']\" -> [' leisure trip ']\n",
    "            - Strip the whitespaces from individual elements e.g. [' leisure trip ']-> ['leisure trip']\n",
    "            - Drop tags we are not interested in\n",
    "'''\n",
    "\n",
    "# customer tags we are interested in\n",
    "customer_tags = ['solo traveler','group','business trip','leisure trip','couple','family with young children']\n",
    "\n",
    "\n",
    "def clean_tag(x):\n",
    "\n",
    "    # convert value from string to a list\n",
    "    myTags = ast.literal_eval(x.lower())\n",
    "\n",
    "    # strip whitespaces from elements and drop those we are not interested in\n",
    "    myTags = [customerTag.strip() for customerTag in myTags if customerTag.strip() in customer_tags]\n",
    "\n",
    "    return myTags\n",
    "\n",
    "# apply clean_tag() function to the tags column\n",
    "df['tags'] = df['tags'].apply(lambda x: clean_tag(x))\n",
    "\n",
    "\n",
    "'''\n",
    "Function applied to tags column to extract new columns for customer categories\n",
    "Lambda function will be used as in the steps below\n",
    "'''\n",
    "\n",
    "def split_tag(x:list, tagName:str) -> int:\n",
    "    \n",
    "    t = [1 if tagName in x else 0][0]\n",
    "    \n",
    "    return t\n",
    "\n",
    "\n",
    "# dictionary of column names (new additional columns) and customer tags (as contained in tags of interest)\n",
    "tagDict = {\n",
    "    'solo_traveler' : 'solo traveler',\n",
    "    'group' : 'group',\n",
    "    'business_trip' : 'business trip',\n",
    "    'leisure_trip' : 'leisure trip',\n",
    "    'couple' : 'couple',\n",
    "    'family_with_young_children' : 'family with young children'\n",
    "}\n",
    "\n",
    "# applying function on tags column to get new separated columns\n",
    "for key, value in tagDict.items():\n",
    "    df[key] = df['tags'].apply(lambda x: split_tag(x, value))"
   ]
  },
  {
   "cell_type": "markdown",
   "metadata": {},
   "source": [
    "##### Saving dataframe for future use\n",
    "---"
   ]
  },
  {
   "cell_type": "code",
   "execution_count": 26,
   "metadata": {},
   "outputs": [],
   "source": [
    "# df.to_csv(\"dfProcessed.csv\", index=False)"
   ]
  },
  {
   "cell_type": "markdown",
   "metadata": {},
   "source": [
    "---"
   ]
  },
  {
   "cell_type": "markdown",
   "metadata": {},
   "source": [
    "### Get word frequencies using CountVectorizer from sklearn"
   ]
  },
  {
   "cell_type": "code",
   "execution_count": 8,
   "metadata": {},
   "outputs": [],
   "source": [
    "vecPos = CountVectorizer(\n",
    "                        strip_accents='ascii', stop_words='english',\n",
    "                        analyzer='word', max_df=0.95,max_features=500\n",
    "                        )\n",
    "\n",
    "vecNeg = CountVectorizer(max_df=0.85, ngram_range=(1,2), max_features=500)\n",
    "\n",
    "sparseVecPos = vecPos.fit_transform(df['positive_comments'])   # You can fit and transform jointly \n",
    "sparseVecNeg = vecNeg.fit_transform(df['negative_comments'])\n",
    "\n",
    "# create dataframes from the vectors of counts\n",
    "matPos = pd.DataFrame(sparseVecPos.toarray(), columns=vecPos.get_feature_names_out())\n",
    "matNeg = pd.DataFrame(sparseVecNeg.toarray(), columns=vecNeg.get_feature_names_out())"
   ]
  },
  {
   "cell_type": "markdown",
   "metadata": {},
   "source": [
    "### Top 5 hotel features that customers mention the most in positive reviews"
   ]
  },
  {
   "cell_type": "code",
   "execution_count": 9,
   "metadata": {},
   "outputs": [
    {
     "data": {
      "text/plain": [
       "staff        5732\n",
       "room         5524\n",
       "location     5204\n",
       "breakfast    2190\n",
       "bed          1829\n",
       "dtype: int64"
      ]
     },
     "execution_count": 9,
     "metadata": {},
     "output_type": "execute_result"
    }
   ],
   "source": [
    "matPos.agg(sum).sort_values(ascending=False)[:5]"
   ]
  },
  {
   "cell_type": "markdown",
   "metadata": {},
   "source": [
    "### Top 5 hotel features that customers mention the most in negative reviews"
   ]
  },
  {
   "cell_type": "code",
   "execution_count": 10,
   "metadata": {},
   "outputs": [
    {
     "data": {
      "text/plain": [
       "room         7646\n",
       "breakfast    1646\n",
       "bed          1276\n",
       "staff        1189\n",
       "bathroom     1121\n",
       "dtype: int64"
      ]
     },
     "execution_count": 10,
     "metadata": {},
     "output_type": "execute_result"
    }
   ],
   "source": [
    "matNeg.agg(sum).sort_values(ascending=False)[:5]"
   ]
  },
  {
   "cell_type": "markdown",
   "metadata": {},
   "source": [
    "### Top 5 features that customers prefer most by category: solo, couple, group etc"
   ]
  },
  {
   "cell_type": "code",
   "execution_count": 11,
   "metadata": {},
   "outputs": [],
   "source": [
    "# indices of customer group data subsets (by travel tag)\n",
    "soloIndex = df.index[df.solo_traveler != 0] # solo_traveler\n",
    "groupIndex = df.index[df.group != 0] # group\n",
    "businessIndex = df.index[df.business_trip != 0] # business_trip\n",
    "leisureIndex = df.index[df.leisure_trip != 0] # leisure_trip\n",
    "coupleIndex = df.index[df.couple != 0] # couple\n",
    "familyIndex = df.index[df.family_with_young_children != 0] # family_with_young_children"
   ]
  },
  {
   "cell_type": "markdown",
   "metadata": {},
   "source": [
    "Solo"
   ]
  },
  {
   "cell_type": "code",
   "execution_count": 12,
   "metadata": {},
   "outputs": [
    {
     "data": {
      "text/plain": [
       "room         1156\n",
       "staff        1154\n",
       "location     1073\n",
       "breakfast     406\n",
       "bed           362\n",
       "dtype: int64"
      ]
     },
     "execution_count": 12,
     "metadata": {},
     "output_type": "execute_result"
    }
   ],
   "source": [
    "matPos.iloc[soloIndex].agg(sum).sort_values(ascending=False)[:5]"
   ]
  },
  {
   "cell_type": "markdown",
   "metadata": {},
   "source": [
    "Group"
   ]
  },
  {
   "cell_type": "code",
   "execution_count": 13,
   "metadata": {},
   "outputs": [
    {
     "data": {
      "text/plain": [
       "staff        694\n",
       "location     602\n",
       "room         601\n",
       "breakfast    247\n",
       "bed          216\n",
       "dtype: int64"
      ]
     },
     "execution_count": 13,
     "metadata": {},
     "output_type": "execute_result"
    }
   ],
   "source": [
    "matPos.iloc[groupIndex].agg(sum).sort_values(ascending=False)[:5]"
   ]
  },
  {
   "cell_type": "markdown",
   "metadata": {},
   "source": [
    "Business"
   ]
  },
  {
   "cell_type": "code",
   "execution_count": 14,
   "metadata": {},
   "outputs": [
    {
     "data": {
      "text/plain": [
       "room         878\n",
       "staff        846\n",
       "location     802\n",
       "breakfast    339\n",
       "bed          248\n",
       "dtype: int64"
      ]
     },
     "execution_count": 14,
     "metadata": {},
     "output_type": "execute_result"
    }
   ],
   "source": [
    "matPos.iloc[businessIndex].agg(sum).sort_values(ascending=False)[:5]"
   ]
  },
  {
   "cell_type": "markdown",
   "metadata": {},
   "source": [
    "Leisure"
   ]
  },
  {
   "cell_type": "code",
   "execution_count": 15,
   "metadata": {},
   "outputs": [
    {
     "data": {
      "text/plain": [
       "staff        4715\n",
       "room         4501\n",
       "location     4279\n",
       "breakfast    1786\n",
       "bed          1511\n",
       "dtype: int64"
      ]
     },
     "execution_count": 15,
     "metadata": {},
     "output_type": "execute_result"
    }
   ],
   "source": [
    "matPos.iloc[leisureIndex].agg(sum).sort_values(ascending=False)[:5]"
   ]
  },
  {
   "cell_type": "markdown",
   "metadata": {},
   "source": [
    "Couple"
   ]
  },
  {
   "cell_type": "code",
   "execution_count": 16,
   "metadata": {},
   "outputs": [
    {
     "data": {
      "text/plain": [
       "staff        2732\n",
       "room         2672\n",
       "location     2440\n",
       "breakfast    1033\n",
       "bed           954\n",
       "dtype: int64"
      ]
     },
     "execution_count": 16,
     "metadata": {},
     "output_type": "execute_result"
    }
   ],
   "source": [
    "matPos.iloc[coupleIndex].agg(sum).sort_values(ascending=False)[:5]"
   ]
  },
  {
   "cell_type": "markdown",
   "metadata": {},
   "source": [
    "Family with young children"
   ]
  },
  {
   "cell_type": "code",
   "execution_count": 17,
   "metadata": {},
   "outputs": [
    {
     "data": {
      "text/plain": [
       "staff        790\n",
       "room         777\n",
       "location     726\n",
       "breakfast    346\n",
       "bed          204\n",
       "dtype: int64"
      ]
     },
     "execution_count": 17,
     "metadata": {},
     "output_type": "execute_result"
    }
   ],
   "source": [
    "matPos.iloc[familyIndex].agg(sum).sort_values(ascending=False)[:5]"
   ]
  },
  {
   "cell_type": "markdown",
   "metadata": {},
   "source": [
    "### Top 5 liked/complained about features by country (UK, France, Italy, Spain)"
   ]
  },
  {
   "cell_type": "code",
   "execution_count": 18,
   "metadata": {},
   "outputs": [
    {
     "name": "stdout",
     "output_type": "stream",
     "text": [
      "\n",
      "Liked: \n",
      " staff        4920\n",
      "room         4650\n",
      "location     4395\n",
      "breakfast    1921\n",
      "bed          1534\n",
      "dtype: int64\n",
      "\n",
      "Complained about:\n",
      " room         6795\n",
      "breakfast    1426\n",
      "bed          1133\n",
      "staff        1022\n",
      "bathroom      968\n",
      "dtype: int64\n"
     ]
    }
   ],
   "source": [
    "# United Kingdom likes/complaints\n",
    "print(\"\\nLiked: \\n\", matPos.iloc[df.index[df.country == 'United Kingdom']].agg(sum).sort_values(ascending=False)[:5])\n",
    "print(\"\\nComplained about:\\n\", matNeg.iloc[df.index[df.country == 'United Kingdom']].agg(sum).sort_values(ascending=False)[:5])"
   ]
  },
  {
   "cell_type": "code",
   "execution_count": 19,
   "metadata": {},
   "outputs": [
    {
     "name": "stdout",
     "output_type": "stream",
     "text": [
      "location     718\n",
      "room         679\n",
      "staff        651\n",
      "breakfast    227\n",
      "bed          199\n",
      "dtype: int64\n",
      "\n",
      "\n",
      "room         577\n",
      "breakfast    180\n",
      "staff        129\n",
      "location     117\n",
      "bathroom      98\n",
      "dtype: int64\n"
     ]
    }
   ],
   "source": [
    "# France likes/complaints\n",
    "print(matPos.iloc[df.index[df.country == 'France']].agg(sum).sort_values(ascending=False)[:5])\n",
    "print('\\n')\n",
    "print(matNeg.iloc[df.index[df.country == 'France']].agg(sum).sort_values(ascending=False)[:5])"
   ]
  },
  {
   "cell_type": "code",
   "execution_count": 20,
   "metadata": {},
   "outputs": [
    {
     "name": "stdout",
     "output_type": "stream",
     "text": [
      "access      0.0\n",
      "picture     0.0\n",
      "problem     0.0\n",
      "price       0.0\n",
      "pressure    0.0\n",
      "dtype: float64\n",
      "\n",
      "\n",
      "ac                      0.0\n",
      "restaurant breakfast    0.0\n",
      "room building           0.0\n",
      "room breakfast          0.0\n",
      "room bit                0.0\n",
      "dtype: float64\n"
     ]
    }
   ],
   "source": [
    "# Italy likes/complaints\n",
    "print(matPos.iloc[df.index[df.country == 'Italy']].agg(sum).sort_values(ascending=False)[:5])\n",
    "print('\\n')\n",
    "print(matNeg.iloc[df.index[df.country == 'Italy']].agg(sum).sort_values(ascending=False)[:5])"
   ]
  },
  {
   "cell_type": "code",
   "execution_count": 21,
   "metadata": {},
   "outputs": [
    {
     "name": "stdout",
     "output_type": "stream",
     "text": [
      "access      0.0\n",
      "picture     0.0\n",
      "problem     0.0\n",
      "price       0.0\n",
      "pressure    0.0\n",
      "dtype: float64\n",
      "\n",
      "\n",
      "access      0.0\n",
      "picture     0.0\n",
      "problem     0.0\n",
      "price       0.0\n",
      "pressure    0.0\n",
      "dtype: float64\n"
     ]
    }
   ],
   "source": [
    "# Spain likes/complaints\n",
    "print(matPos.iloc[df.index[df.country == 'Spain']].agg(sum).sort_values(ascending=False)[:5])\n",
    "print('\\n')\n",
    "print(matPos.iloc[df.index[df.country == 'Spain']].agg(sum).sort_values(ascending=False)[:5])"
   ]
  },
  {
   "cell_type": "markdown",
   "metadata": {},
   "source": [
    "### Top 5 Hotels Overall with consistently high ratings"
   ]
  },
  {
   "cell_type": "code",
   "execution_count": 37,
   "metadata": {},
   "outputs": [
    {
     "data": {
      "text/html": [
       "<div>\n",
       "<style scoped>\n",
       "    .dataframe tbody tr th:only-of-type {\n",
       "        vertical-align: middle;\n",
       "    }\n",
       "\n",
       "    .dataframe tbody tr th {\n",
       "        vertical-align: top;\n",
       "    }\n",
       "\n",
       "    .dataframe thead th {\n",
       "        text-align: right;\n",
       "    }\n",
       "</style>\n",
       "<table border=\"1\" class=\"dataframe\">\n",
       "  <thead>\n",
       "    <tr style=\"text-align: right;\">\n",
       "      <th></th>\n",
       "      <th>hotel_name</th>\n",
       "      <th>hotel_address</th>\n",
       "      <th>review_count</th>\n",
       "      <th>non_review_scoring_count</th>\n",
       "      <th>average_hotel_score</th>\n",
       "      <th>review_date</th>\n",
       "      <th>reviewer_nationality</th>\n",
       "      <th>positive_comments</th>\n",
       "      <th>negative_comments</th>\n",
       "      <th>total_reviewer_reviews</th>\n",
       "      <th>reviewer_score</th>\n",
       "      <th>tags</th>\n",
       "      <th>country</th>\n",
       "      <th>year</th>\n",
       "      <th>solo_traveler</th>\n",
       "      <th>group</th>\n",
       "      <th>business_trip</th>\n",
       "      <th>leisure_trip</th>\n",
       "      <th>couple</th>\n",
       "      <th>family_with_young_children</th>\n",
       "    </tr>\n",
       "  </thead>\n",
       "  <tbody>\n",
       "    <tr>\n",
       "      <th>0</th>\n",
       "      <td>Hotel Arena</td>\n",
       "      <td>s Gravesandestraat 55 Oost 1092 AA Amsterdam ...</td>\n",
       "      <td>1403</td>\n",
       "      <td>194</td>\n",
       "      <td>7.7</td>\n",
       "      <td>2017-08-03</td>\n",
       "      <td>Russia</td>\n",
       "      <td>park</td>\n",
       "      <td>post site trip mistake place booking com night...</td>\n",
       "      <td>7</td>\n",
       "      <td>2.9</td>\n",
       "      <td>[leisure trip, couple]</td>\n",
       "      <td>Netherlands</td>\n",
       "      <td>2017</td>\n",
       "      <td>0</td>\n",
       "      <td>0</td>\n",
       "      <td>0</td>\n",
       "      <td>1</td>\n",
       "      <td>1</td>\n",
       "      <td>0</td>\n",
       "    </tr>\n",
       "    <tr>\n",
       "      <th>1</th>\n",
       "      <td>Hotel Arena</td>\n",
       "      <td>s Gravesandestraat 55 Oost 1092 AA Amsterdam ...</td>\n",
       "      <td>1403</td>\n",
       "      <td>194</td>\n",
       "      <td>7.7</td>\n",
       "      <td>2017-08-03</td>\n",
       "      <td>Ireland</td>\n",
       "      <td>complaint location surrounding amenity service...</td>\n",
       "      <td></td>\n",
       "      <td>7</td>\n",
       "      <td>7.5</td>\n",
       "      <td>[leisure trip, couple]</td>\n",
       "      <td>Netherlands</td>\n",
       "      <td>2017</td>\n",
       "      <td>0</td>\n",
       "      <td>0</td>\n",
       "      <td>0</td>\n",
       "      <td>1</td>\n",
       "      <td>1</td>\n",
       "      <td>0</td>\n",
       "    </tr>\n",
       "    <tr>\n",
       "      <th>2</th>\n",
       "      <td>Hotel Arena</td>\n",
       "      <td>s Gravesandestraat 55 Oost 1092 AA Amsterdam ...</td>\n",
       "      <td>1403</td>\n",
       "      <td>194</td>\n",
       "      <td>7.7</td>\n",
       "      <td>2017-07-31</td>\n",
       "      <td>Australia</td>\n",
       "      <td>location staff breakfast range</td>\n",
       "      <td>room bit room story step level room tea coffee...</td>\n",
       "      <td>9</td>\n",
       "      <td>7.1</td>\n",
       "      <td>[leisure trip, family with young children]</td>\n",
       "      <td>Netherlands</td>\n",
       "      <td>2017</td>\n",
       "      <td>0</td>\n",
       "      <td>0</td>\n",
       "      <td>0</td>\n",
       "      <td>1</td>\n",
       "      <td>0</td>\n",
       "      <td>1</td>\n",
       "    </tr>\n",
       "  </tbody>\n",
       "</table>\n",
       "</div>"
      ],
      "text/plain": [
       "    hotel_name                                      hotel_address  \\\n",
       "0  Hotel Arena   s Gravesandestraat 55 Oost 1092 AA Amsterdam ...   \n",
       "1  Hotel Arena   s Gravesandestraat 55 Oost 1092 AA Amsterdam ...   \n",
       "2  Hotel Arena   s Gravesandestraat 55 Oost 1092 AA Amsterdam ...   \n",
       "\n",
       "   review_count  non_review_scoring_count  average_hotel_score review_date  \\\n",
       "0          1403                       194                  7.7  2017-08-03   \n",
       "1          1403                       194                  7.7  2017-08-03   \n",
       "2          1403                       194                  7.7  2017-07-31   \n",
       "\n",
       "  reviewer_nationality                                  positive_comments  \\\n",
       "0              Russia                                                park   \n",
       "1             Ireland   complaint location surrounding amenity service...   \n",
       "2           Australia                      location staff breakfast range   \n",
       "\n",
       "                                   negative_comments  total_reviewer_reviews  \\\n",
       "0  post site trip mistake place booking com night...                       7   \n",
       "1                                                                          7   \n",
       "2  room bit room story step level room tea coffee...                       9   \n",
       "\n",
       "   reviewer_score                                        tags      country  \\\n",
       "0             2.9                      [leisure trip, couple]  Netherlands   \n",
       "1             7.5                      [leisure trip, couple]  Netherlands   \n",
       "2             7.1  [leisure trip, family with young children]  Netherlands   \n",
       "\n",
       "   year  solo_traveler  group  business_trip  leisure_trip  couple  \\\n",
       "0  2017              0      0              0             1       1   \n",
       "1  2017              0      0              0             1       1   \n",
       "2  2017              0      0              0             1       0   \n",
       "\n",
       "   family_with_young_children  \n",
       "0                           0  \n",
       "1                           0  \n",
       "2                           1  "
      ]
     },
     "execution_count": 37,
     "metadata": {},
     "output_type": "execute_result"
    }
   ],
   "source": [
    "df.head(3)"
   ]
  },
  {
   "cell_type": "code",
   "execution_count": 33,
   "metadata": {},
   "outputs": [
    {
     "data": {
      "text/html": [
       "<div>\n",
       "<style scoped>\n",
       "    .dataframe tbody tr th:only-of-type {\n",
       "        vertical-align: middle;\n",
       "    }\n",
       "\n",
       "    .dataframe tbody tr th {\n",
       "        vertical-align: top;\n",
       "    }\n",
       "\n",
       "    .dataframe thead th {\n",
       "        text-align: right;\n",
       "    }\n",
       "</style>\n",
       "<table border=\"1\" class=\"dataframe\">\n",
       "  <thead>\n",
       "    <tr style=\"text-align: right;\">\n",
       "      <th></th>\n",
       "      <th>average_hotel_score</th>\n",
       "    </tr>\n",
       "    <tr>\n",
       "      <th>hotel_name</th>\n",
       "      <th></th>\n",
       "    </tr>\n",
       "  </thead>\n",
       "  <tbody>\n",
       "    <tr>\n",
       "      <th>Haymarket Hotel</th>\n",
       "      <td>9.6</td>\n",
       "    </tr>\n",
       "    <tr>\n",
       "      <th>Milestone Hotel Kensington</th>\n",
       "      <td>9.5</td>\n",
       "    </tr>\n",
       "    <tr>\n",
       "      <th>Intercontinental London The O2</th>\n",
       "      <td>9.4</td>\n",
       "    </tr>\n",
       "    <tr>\n",
       "      <th>Apex Temple Court Hotel</th>\n",
       "      <td>9.2</td>\n",
       "    </tr>\n",
       "    <tr>\n",
       "      <th>One Aldwych</th>\n",
       "      <td>9.2</td>\n",
       "    </tr>\n",
       "  </tbody>\n",
       "</table>\n",
       "</div>"
      ],
      "text/plain": [
       "                                average_hotel_score\n",
       "hotel_name                                         \n",
       "Haymarket Hotel                                 9.6\n",
       "Milestone Hotel Kensington                      9.5\n",
       "Intercontinental London The O2                  9.4\n",
       "Apex Temple Court Hotel                         9.2\n",
       "One Aldwych                                     9.2"
      ]
     },
     "execution_count": 33,
     "metadata": {},
     "output_type": "execute_result"
    }
   ],
   "source": [
    "overallRatings = df[['hotel_name', 'average_hotel_score']].groupby(['hotel_name']).mean()\n",
    "\n",
    "# top 5 hotels\n",
    "topOverall = overallRatings.sort_values(by=['average_hotel_score'], ascending=False)[:5]\n",
    "topOverall"
   ]
  },
  {
   "cell_type": "code",
   "execution_count": null,
   "metadata": {},
   "outputs": [],
   "source": []
  },
  {
   "cell_type": "markdown",
   "metadata": {},
   "source": [
    "### Bottom 5 Hotels Overall with consistently low ratings"
   ]
  },
  {
   "cell_type": "code",
   "execution_count": 35,
   "metadata": {},
   "outputs": [
    {
     "data": {
      "text/html": [
       "<div>\n",
       "<style scoped>\n",
       "    .dataframe tbody tr th:only-of-type {\n",
       "        vertical-align: middle;\n",
       "    }\n",
       "\n",
       "    .dataframe tbody tr th {\n",
       "        vertical-align: top;\n",
       "    }\n",
       "\n",
       "    .dataframe thead th {\n",
       "        text-align: right;\n",
       "    }\n",
       "</style>\n",
       "<table border=\"1\" class=\"dataframe\">\n",
       "  <thead>\n",
       "    <tr style=\"text-align: right;\">\n",
       "      <th></th>\n",
       "      <th>average_hotel_score</th>\n",
       "    </tr>\n",
       "    <tr>\n",
       "      <th>hotel_name</th>\n",
       "      <th></th>\n",
       "    </tr>\n",
       "  </thead>\n",
       "  <tbody>\n",
       "    <tr>\n",
       "      <th>Kube Hotel Ice Bar</th>\n",
       "      <td>7.2</td>\n",
       "    </tr>\n",
       "    <tr>\n",
       "      <th>Novotel Suites Paris Nord 18 me</th>\n",
       "      <td>7.4</td>\n",
       "    </tr>\n",
       "    <tr>\n",
       "      <th>H tel des Ducs D Anjou</th>\n",
       "      <td>7.7</td>\n",
       "    </tr>\n",
       "    <tr>\n",
       "      <th>The Park Grand London Paddington</th>\n",
       "      <td>7.7</td>\n",
       "    </tr>\n",
       "    <tr>\n",
       "      <th>Hotel Arena</th>\n",
       "      <td>7.7</td>\n",
       "    </tr>\n",
       "  </tbody>\n",
       "</table>\n",
       "</div>"
      ],
      "text/plain": [
       "                                  average_hotel_score\n",
       "hotel_name                                           \n",
       "Kube Hotel Ice Bar                                7.2\n",
       "Novotel Suites Paris Nord 18 me                   7.4\n",
       "H tel des Ducs D Anjou                            7.7\n",
       "The Park Grand London Paddington                  7.7\n",
       "Hotel Arena                                       7.7"
      ]
     },
     "execution_count": 35,
     "metadata": {},
     "output_type": "execute_result"
    }
   ],
   "source": [
    "bottomOverall = overallRatings.sort_values(by=['average_hotel_score'])[:5]\n",
    "bottomOverall"
   ]
  },
  {
   "cell_type": "code",
   "execution_count": null,
   "metadata": {},
   "outputs": [],
   "source": []
  },
  {
   "cell_type": "markdown",
   "metadata": {},
   "source": [
    "### 5 most improved hotels with the highest improvement in average ratings from 2015 to 2017 \n",
    "showing their average ratings for each of the 3 years"
   ]
  },
  {
   "cell_type": "markdown",
   "metadata": {},
   "source": []
  }
 ],
 "metadata": {
  "kernelspec": {
   "display_name": "Python 3.9.13 64-bit (microsoft store)",
   "language": "python",
   "name": "python3"
  },
  "language_info": {
   "codemirror_mode": {
    "name": "ipython",
    "version": 3
   },
   "file_extension": ".py",
   "mimetype": "text/x-python",
   "name": "python",
   "nbconvert_exporter": "python",
   "pygments_lexer": "ipython3",
   "version": "3.9.13"
  },
  "orig_nbformat": 4,
  "vscode": {
   "interpreter": {
    "hash": "bfe9ce709e982859ebd8c1b094ee35d9f73a27801040ad55cc46450c9d5cadda"
   }
  }
 },
 "nbformat": 4,
 "nbformat_minor": 2
}
