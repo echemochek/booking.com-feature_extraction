{
 "cells": [
  {
   "cell_type": "markdown",
   "metadata": {},
   "source": [
    "# Booking.com Feature Extraction\n",
    "---"
   ]
  },
  {
   "cell_type": "markdown",
   "metadata": {},
   "source": [
    "Download the file BookingDotCom_HotelReviews.xlsx from Canvas. This file contains over 515,000 guest reviews and rating of almost 1500 hotels across Europe scraped from popular hotel reservation website Booking.com. The text data was cleaned by removing unicode and punctuation and transformed to lower case. No other preprocessing was done. More information on each field is provided in the \"Data Description\" tab of the Excel file.\n",
    "\n",
    "        1. What are the top five hotel features (e.g., location, staff, etc.) that customers mention the most in positive reviews and top five features they mention most in negative reviews? Your identified features must make sense (e.g., \"great\" or \"negative\" are not features). (3 points)\n",
    "        \n",
    "        2. What are the top five features that customers prefer most if they are a solo traveler vs traveling with a group vs on a business trip vs a leisure trip vs traveling as a couple vs a family with young children. You will find these categories in the \"Tags\" column. There are a few more tags that we don't need. (2 points).\n",
    "\n",
    "        3. What are the top five features customers like most and top five features they complain about most about hotels in United Kingdom, France, Italy, and Spain? Country information is available inside Hotel_Address. (2 points)\n",
    "        \n",
    "        4. Create a dashboard with the following plots; (1) \"Top Five Hotels Overall\" with consistently high ratings, (2) Bottom Five Hotels Overall\" with consistently low ratings, (3) Five Most Improved Hotels\" with the highest improvement in average ratings from 2015 to 2017, showing their average ratings for each of the three years. (0.5+0.5+2 points).\n",
    "\n",
    "Write clear, compact, and understandable code with comment/markdown statements as appropriate. Non-working code or unnecessary code will be penalized. \n",
    "\n",
    "Submit your Jupyter file using the link below or provide a link to your Google Colab or Github file.\n"
   ]
  },
  {
   "cell_type": "code",
   "execution_count": 1,
   "metadata": {},
   "outputs": [],
   "source": [
    "# import packages to use\n",
    "import pandas as pd\n",
    "import re\n",
    "import pycountry\n",
    "import ast\n",
    "import spacy\n",
    "from sklearn.feature_extraction.text  import CountVectorizer"
   ]
  },
  {
   "cell_type": "markdown",
   "metadata": {},
   "source": [
    "### Load dataframe"
   ]
  },
  {
   "cell_type": "code",
   "execution_count": 2,
   "metadata": {},
   "outputs": [],
   "source": [
    "df = pd.read_excel(\"BookingDotCom_HotelReviews.xlsx\", sheet_name=\"Data\")\n",
    "\n",
    "# sample the first 1000 rows of df\n",
    "df = df[:100000]\n",
    "\n",
    "# rename df columns to lower case\n",
    "df.columns= df.columns.str.lower()"
   ]
  },
  {
   "cell_type": "markdown",
   "metadata": {},
   "source": [
    "### Remove numbers from text using regular expressions"
   ]
  },
  {
   "cell_type": "code",
   "execution_count": 3,
   "metadata": {},
   "outputs": [],
   "source": [
    "df['positive_comments'] = df['positive_comments'].apply(lambda x: re.sub(r'\\d+', '', str(x)))\n",
    "df['negative_comments'] = df['negative_comments'].apply(lambda x: re.sub(r'\\d+', '', str(x)))"
   ]
  },
  {
   "cell_type": "markdown",
   "metadata": {},
   "source": [
    "### Lemmatize, remove stopwords and convert to lowercase using spaCy"
   ]
  },
  {
   "cell_type": "code",
   "execution_count": 4,
   "metadata": {},
   "outputs": [],
   "source": [
    "load_model = spacy.load('en_core_web_sm', disable = ['parser','ner'])\n",
    "\n",
    "# remove stopwords\n",
    "myStopwords = list(load_model.Defaults.stop_words)\n",
    "myStopwords.append('negative')\n",
    "myStopwords.append('positive')\n",
    "myStopwords.append('hotel')\n",
    "#.append('positive'), 'stay', 'hotel', 'night', 'book', 'com')\n",
    "\n",
    "def lemmaFunc(text):\n",
    "    doc = load_model(text)\n",
    "    allowed_tags = ['NOUN', 'PROPN']        # to get only nouns and proper nouns\n",
    "    return \" \".join([token.lemma_.lower() for token in doc if token.pos_ in allowed_tags \\\n",
    "                          and token.text.lower() not in myStopwords\n",
    "                          ])\n",
    "\n",
    "df['positive_comments'] = df['positive_comments'].apply(lambda x: lemmaFunc(x))\n",
    "df['negative_comments'] = df['negative_comments'].apply(lambda x: lemmaFunc(x))"
   ]
  },
  {
   "cell_type": "markdown",
   "metadata": {},
   "source": [
    "### Create a column of country names"
   ]
  },
  {
   "cell_type": "code",
   "execution_count": 5,
   "metadata": {},
   "outputs": [],
   "source": [
    "# we get the list of countries from the pycountry package and use the hotel_address column to extract country name\n",
    "df['country'] = df[\"hotel_address\"].apply(\n",
    "    lambda address: ' '.join([c.name for c in pycountry.countries if c.name in address])\n",
    "    )\n",
    "\n",
    "# use the review_date column to extract the year and store in new column\n",
    "df['year'] = pd.DatetimeIndex(df['review_date']).year"
   ]
  },
  {
   "cell_type": "markdown",
   "metadata": {},
   "source": [
    "### Get customer groupings from column of tags"
   ]
  },
  {
   "cell_type": "code",
   "execution_count": 6,
   "metadata": {},
   "outputs": [],
   "source": [
    "'''\n",
    "In this step we deal with the tags column using the steps defined below:\n",
    "    1. Define tags we are interested in\n",
    "    2. Define a function to apply to tags column to remove tags we are not interested in by:\n",
    "            - Converting the individual row values to list (from string) e.g. \"[' Leisure trip ']\" -> [' leisure trip ']\n",
    "            - Strip the whitespaces from individual elements e.g. [' leisure trip ']-> ['leisure trip']\n",
    "            - Drop tags we are not interested in\n",
    "'''\n",
    "\n",
    "# customer tags we are interested in\n",
    "customer_tags = ['solo traveler','group','business trip','leisure trip','couple','family with young children']\n",
    "\n",
    "\n",
    "def clean_tag(x):\n",
    "\n",
    "    # convert value from string to a list\n",
    "    myTags = ast.literal_eval(x.lower())\n",
    "\n",
    "    # strip whitespaces from elements and drop those we are not interested in\n",
    "    myTags = [customerTag.strip() for customerTag in myTags if customerTag.strip() in customer_tags]\n",
    "\n",
    "    return myTags\n",
    "\n",
    "# apply clean_tag() function to the tags column\n",
    "df['tags'] = df['tags'].apply(lambda x: clean_tag(x))\n",
    "\n",
    "\n",
    "'''\n",
    "Function applied to tags column to extract new columns for customer categories\n",
    "Lambda function will be used as in the steps below\n",
    "'''\n",
    "\n",
    "def split_tag(x:list, tagName:str) -> int:\n",
    "    \n",
    "    t = [1 if tagName in x else 0][0]\n",
    "    \n",
    "    return t\n",
    "\n",
    "\n",
    "# dictionary of column names (new additional columns) and customer tags (as contained in tags of interest)\n",
    "tagDict = {\n",
    "    'solo_traveler' : 'solo traveler',\n",
    "    'group' : 'group',\n",
    "    'business_trip' : 'business trip',\n",
    "    'leisure_trip' : 'leisure trip',\n",
    "    'couple' : 'couple',\n",
    "    'family_with_young_children' : 'family with young children'\n",
    "}\n",
    "\n",
    "# applying function on tags column to get new separated columns\n",
    "for key, value in tagDict.items():\n",
    "    df[key] = df['tags'].apply(lambda x: split_tag(x, value))"
   ]
  },
  {
   "cell_type": "markdown",
   "metadata": {},
   "source": [
    "### Get word frequencies using CountVectorizer from sklearn"
   ]
  },
  {
   "cell_type": "code",
   "execution_count": 7,
   "metadata": {},
   "outputs": [],
   "source": [
    "vecPos = CountVectorizer(\n",
    "                        strip_accents='ascii', stop_words='english',\n",
    "                        analyzer='word', max_df=0.95,max_features=500\n",
    "                        )\n",
    "\n",
    "vecNeg = CountVectorizer(max_df=0.85, ngram_range=(1,2), max_features=500)\n",
    "\n",
    "sparseVecPos = vecPos.fit_transform(df['positive_comments'])   # You can fit and transform jointly \n",
    "sparseVecNeg = vecNeg.fit_transform(df['negative_comments'])\n",
    "\n",
    "# create dataframes from the vectors of counts\n",
    "matPos = pd.DataFrame(sparseVecPos.toarray(), columns=vecPos.get_feature_names_out())\n",
    "matNeg = pd.DataFrame(sparseVecNeg.toarray(), columns=vecNeg.get_feature_names_out())"
   ]
  },
  {
   "cell_type": "markdown",
   "metadata": {},
   "source": [
    "### Top 5 hotel features that customers mention the most in positive reviews"
   ]
  },
  {
   "cell_type": "code",
   "execution_count": 8,
   "metadata": {},
   "outputs": [
    {
     "data": {
      "text/plain": [
       "staff        195767\n",
       "location     193406\n",
       "room         178534\n",
       "breakfast     85384\n",
       "bed           63664\n",
       "dtype: int64"
      ]
     },
     "execution_count": 8,
     "metadata": {},
     "output_type": "execute_result"
    }
   ],
   "source": [
    "matPos.agg(sum).sort_values(ascending=False)[:5]"
   ]
  },
  {
   "cell_type": "markdown",
   "metadata": {},
   "source": [
    "### Top 5 hotel features that customers mention the most in negative reviews"
   ]
  },
  {
   "cell_type": "code",
   "execution_count": 9,
   "metadata": {},
   "outputs": [
    {
     "data": {
      "text/plain": [
       "room         208790\n",
       "breakfast     58508\n",
       "staff         39756\n",
       "bed           37187\n",
       "night         28413\n",
       "dtype: int64"
      ]
     },
     "execution_count": 9,
     "metadata": {},
     "output_type": "execute_result"
    }
   ],
   "source": [
    "matNeg.agg(sum).sort_values(ascending=False)[:5]"
   ]
  },
  {
   "cell_type": "markdown",
   "metadata": {},
   "source": [
    "### Top 5 features that customers prefer most by category: solo, couple, group etc"
   ]
  },
  {
   "cell_type": "code",
   "execution_count": 10,
   "metadata": {},
   "outputs": [],
   "source": [
    "# indices of customer group data subsets (by travel tag)\n",
    "soloIndex = df.index[df.solo_traveler != 0] # solo_traveler\n",
    "groupIndex = df.index[df.group != 0] # group\n",
    "businessIndex = df.index[df.business_trip != 0] # business_trip\n",
    "leisureIndex = df.index[df.leisure_trip != 0] # leisure_trip\n",
    "coupleIndex = df.index[df.couple != 0] # couple\n",
    "familyIndex = df.index[df.family_with_young_children != 0] # family_with_young_children"
   ]
  },
  {
   "cell_type": "markdown",
   "metadata": {},
   "source": [
    "Solo"
   ]
  },
  {
   "cell_type": "code",
   "execution_count": 11,
   "metadata": {},
   "outputs": [
    {
     "data": {
      "text/plain": [
       "location     39174\n",
       "room         36639\n",
       "staff        36623\n",
       "breakfast    15716\n",
       "bed          11184\n",
       "dtype: int64"
      ]
     },
     "execution_count": 11,
     "metadata": {},
     "output_type": "execute_result"
    }
   ],
   "source": [
    "matPos.iloc[soloIndex].agg(sum).sort_values(ascending=False)[:5]"
   ]
  },
  {
   "cell_type": "markdown",
   "metadata": {},
   "source": [
    "Group"
   ]
  },
  {
   "cell_type": "code",
   "execution_count": 12,
   "metadata": {},
   "outputs": [
    {
     "data": {
      "text/plain": [
       "staff        25100\n",
       "location     24133\n",
       "room         21148\n",
       "breakfast    10769\n",
       "bed           8513\n",
       "dtype: int64"
      ]
     },
     "execution_count": 12,
     "metadata": {},
     "output_type": "execute_result"
    }
   ],
   "source": [
    "matPos.iloc[groupIndex].agg(sum).sort_values(ascending=False)[:5]"
   ]
  },
  {
   "cell_type": "markdown",
   "metadata": {},
   "source": [
    "Business"
   ]
  },
  {
   "cell_type": "code",
   "execution_count": 13,
   "metadata": {},
   "outputs": [
    {
     "data": {
      "text/plain": [
       "location     28691\n",
       "staff        25318\n",
       "room         25273\n",
       "breakfast    12234\n",
       "bed           7664\n",
       "dtype: int64"
      ]
     },
     "execution_count": 13,
     "metadata": {},
     "output_type": "execute_result"
    }
   ],
   "source": [
    "matPos.iloc[businessIndex].agg(sum).sort_values(ascending=False)[:5]"
   ]
  },
  {
   "cell_type": "markdown",
   "metadata": {},
   "source": [
    "Leisure"
   ]
  },
  {
   "cell_type": "code",
   "execution_count": 14,
   "metadata": {},
   "outputs": [
    {
     "data": {
      "text/plain": [
       "staff        165222\n",
       "location     160398\n",
       "room         148617\n",
       "breakfast     71056\n",
       "bed           54297\n",
       "dtype: int64"
      ]
     },
     "execution_count": 14,
     "metadata": {},
     "output_type": "execute_result"
    }
   ],
   "source": [
    "matPos.iloc[leisureIndex].agg(sum).sort_values(ascending=False)[:5]"
   ]
  },
  {
   "cell_type": "markdown",
   "metadata": {},
   "source": [
    "Couple"
   ]
  },
  {
   "cell_type": "code",
   "execution_count": 15,
   "metadata": {},
   "outputs": [
    {
     "data": {
      "text/plain": [
       "staff        99426\n",
       "location     93807\n",
       "room         91227\n",
       "breakfast    42780\n",
       "bed          34203\n",
       "dtype: int64"
      ]
     },
     "execution_count": 15,
     "metadata": {},
     "output_type": "execute_result"
    }
   ],
   "source": [
    "matPos.iloc[coupleIndex].agg(sum).sort_values(ascending=False)[:5]"
   ]
  },
  {
   "cell_type": "markdown",
   "metadata": {},
   "source": [
    "Family with young children"
   ]
  },
  {
   "cell_type": "code",
   "execution_count": 16,
   "metadata": {},
   "outputs": [
    {
     "data": {
      "text/plain": [
       "location     23797\n",
       "staff        23004\n",
       "room         19904\n",
       "breakfast    11116\n",
       "bed           6687\n",
       "dtype: int64"
      ]
     },
     "execution_count": 16,
     "metadata": {},
     "output_type": "execute_result"
    }
   ],
   "source": [
    "matPos.iloc[familyIndex].agg(sum).sort_values(ascending=False)[:5]"
   ]
  },
  {
   "cell_type": "markdown",
   "metadata": {},
   "source": [
    "### Top 5 liked/complained about features by country (UK, France, Italy, Spain)"
   ]
  },
  {
   "cell_type": "code",
   "execution_count": 25,
   "metadata": {},
   "outputs": [
    {
     "name": "stdout",
     "output_type": "stream",
     "text": [
      "\n",
      "Liked: \n",
      " staff        97550\n",
      "location     93513\n",
      "room         89558\n",
      "breakfast    37191\n",
      "bed          34865\n",
      "dtype: int64\n",
      "\n",
      "Complained about:\n",
      " room         117572\n",
      "breakfast     31124\n",
      "bed           21395\n",
      "staff         21313\n",
      "bathroom      15605\n",
      "dtype: int64\n"
     ]
    }
   ],
   "source": [
    "# United Kingdom likes/complaints\n",
    "print(\"\\nLiked: \\n\", matPos.iloc[df.index[df.country == 'United Kingdom']].agg(sum).sort_values(ascending=False)[:5])\n",
    "print(\"\\nComplained about:\\n\", matNeg.iloc[df.index[df.country == 'United Kingdom']].agg(sum).sort_values(ascending=False)[:5])"
   ]
  },
  {
   "cell_type": "code",
   "execution_count": 23,
   "metadata": {},
   "outputs": [
    {
     "name": "stdout",
     "output_type": "stream",
     "text": [
      "location     26894\n",
      "staff        24760\n",
      "room         20762\n",
      "breakfast     7504\n",
      "bed           6733\n",
      "dtype: int64\n",
      "\n",
      "\n",
      "room         23423\n",
      "breakfast     6712\n",
      "staff         4094\n",
      "bathroom      3083\n",
      "bit           3067\n",
      "dtype: int64\n"
     ]
    }
   ],
   "source": [
    "# France likes/complaints\n",
    "print(matPos.iloc[df.index[df.country == 'France']].agg(sum).sort_values(ascending=False)[:5])\n",
    "print('\\n')\n",
    "print(matNeg.iloc[df.index[df.country == 'France']].agg(sum).sort_values(ascending=False)[:5])"
   ]
  },
  {
   "cell_type": "code",
   "execution_count": 20,
   "metadata": {},
   "outputs": [
    {
     "name": "stdout",
     "output_type": "stream",
     "text": [
      "location     13171\n",
      "room         12885\n",
      "staff        12607\n",
      "breakfast    11004\n",
      "station       4688\n",
      "dtype: int64\n",
      "\n",
      "\n",
      "room         11778\n",
      "breakfast     4868\n",
      "staff         2935\n",
      "bit           1994\n",
      "night         1915\n",
      "dtype: int64\n"
     ]
    }
   ],
   "source": [
    "# Italy likes/complaints\n",
    "print(matPos.iloc[df.index[df.country == 'Italy']].agg(sum).sort_values(ascending=False)[:5])\n",
    "print('\\n')\n",
    "print(matNeg.iloc[df.index[df.country == 'Italy']].agg(sum).sort_values(ascending=False)[:5])"
   ]
  },
  {
   "cell_type": "code",
   "execution_count": 21,
   "metadata": {},
   "outputs": [
    {
     "name": "stdout",
     "output_type": "stream",
     "text": [
      "location     25183\n",
      "staff        24726\n",
      "room         19846\n",
      "breakfast     9664\n",
      "bed           6672\n",
      "dtype: int64\n",
      "\n",
      "\n",
      "location     25183\n",
      "staff        24726\n",
      "room         19846\n",
      "breakfast     9664\n",
      "bed           6672\n",
      "dtype: int64\n"
     ]
    }
   ],
   "source": [
    "# Spain likes/complaints\n",
    "print(matPos.iloc[df.index[df.country == 'Spain']].agg(sum).sort_values(ascending=False)[:5])\n",
    "print('\\n')\n",
    "print(matPos.iloc[df.index[df.country == 'Spain']].agg(sum).sort_values(ascending=False)[:5])"
   ]
  },
  {
   "cell_type": "code",
   "execution_count": null,
   "metadata": {},
   "outputs": [],
   "source": []
  }
 ],
 "metadata": {
  "kernelspec": {
   "display_name": "Python 3.9.13 64-bit (microsoft store)",
   "language": "python",
   "name": "python3"
  },
  "language_info": {
   "codemirror_mode": {
    "name": "ipython",
    "version": 3
   },
   "file_extension": ".py",
   "mimetype": "text/x-python",
   "name": "python",
   "nbconvert_exporter": "python",
   "pygments_lexer": "ipython3",
   "version": "3.9.13"
  },
  "orig_nbformat": 4,
  "vscode": {
   "interpreter": {
    "hash": "bfe9ce709e982859ebd8c1b094ee35d9f73a27801040ad55cc46450c9d5cadda"
   }
  }
 },
 "nbformat": 4,
 "nbformat_minor": 2
}
