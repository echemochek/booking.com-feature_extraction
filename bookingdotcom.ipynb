{
 "cells": [
  {
   "cell_type": "markdown",
   "metadata": {},
   "source": [
    "# Booking.com Feature Extraction\n",
    "---"
   ]
  },
  {
   "cell_type": "markdown",
   "metadata": {},
   "source": [
    "Download the file BookingDotCom_HotelReviews.xlsx from Canvas. This file contains over 515,000 guest reviews and rating of almost 1500 hotels across Europe scraped from popular hotel reservation website Booking.com. The text data was cleaned by removing unicode and punctuation and transformed to lower case. No other preprocessing was done. More information on each field is provided in the \"Data Description\" tab of the Excel file.\n",
    "\n",
    "        1. What are the top five hotel features (e.g., location, staff, etc.) that customers mention the most in positive reviews and top five features they mention most in negative reviews? Your identified features must make sense (e.g., \"great\" or \"negative\" are not features). (3 points)\n",
    "        \n",
    "        2. What are the top five features that customers prefer most if they are a solo traveler vs traveling with a group vs on a business trip vs a leisure trip vs traveling as a couple vs a family with young children. You will find these categories in the \"Tags\" column. There are a few more tags that we don't need. (2 points).\n",
    "\n",
    "        3. What are the top five features customers like most and top five features they complain about most about hotels in United Kingdom, France, Italy, and Spain? Country information is available inside Hotel_Address. (2 points)\n",
    "        \n",
    "        4. Create a dashboard with the following plots; (1) \"Top Five Hotels Overall\" with consistently high ratings, (2) Bottom Five Hotels Overall\" with consistently low ratings, (3) Five Most Improved Hotels\" with the highest improvement in average ratings from 2015 to 2017, showing their average ratings for each of the three years. (0.5+0.5+2 points).\n",
    "\n",
    "Write clear, compact, and understandable code with comment/markdown statements as appropriate. Non-working code or unnecessary code will be penalized. \n",
    "\n",
    "Submit your Jupyter file using the link below or provide a link to your Google Colab or Github file.\n"
   ]
  },
  {
   "cell_type": "code",
   "execution_count": 45,
   "metadata": {},
   "outputs": [],
   "source": [
    "# import packages to use\n",
    "import pandas as pd\n",
    "import re\n",
    "import pycountry\n",
    "import ast\n",
    "import spacy\n",
    "from sklearn.feature_extraction.text  import CountVectorizer"
   ]
  },
  {
   "cell_type": "code",
   "execution_count": 25,
   "metadata": {},
   "outputs": [
    {
     "data": {
      "text/plain": [
       "'\\n\\n'"
      ]
     },
     "execution_count": 25,
     "metadata": {},
     "output_type": "execute_result"
    }
   ],
   "source": [
    "# load dataframe\n",
    "df = pd.read_excel(\"BookingDotCom_HotelReviews.xlsx\", sheet_name=\"Data\")\n",
    "\n",
    "# sample the first 1000 rows of df\n",
    "df = df[:1000]\n",
    "\n",
    "# rename df columns to lower case\n",
    "df.columns= df.columns.str.lower()"
   ]
  },
  {
   "cell_type": "code",
   "execution_count": 26,
   "metadata": {},
   "outputs": [],
   "source": [
    "# remove numbers from text using re\n",
    "df['positive_comments'] = df['positive_comments'].apply(lambda x: re.sub(r'\\d+', '', x))\n",
    "df['negative_comments'] = df['negative_comments'].apply(lambda x: re.sub(r'\\d+', '', x))"
   ]
  },
  {
   "cell_type": "code",
   "execution_count": 75,
   "metadata": {},
   "outputs": [],
   "source": [
    "# lemmatize, remove stopwords and convert to lower the columns: positive_comments and negative_comments\n",
    "\n",
    "load_model = spacy.load('en_core_web_sm', disable = ['parser','ner'])\n",
    "\n",
    "# remove stopwords\n",
    "myStopwords = list(load_model.Defaults.stop_words)\n",
    "myStopwords.append(['negative','positive', 'stay', 'hotel', 'night', 'book', 'com'])\n",
    "\n",
    "def lemmaFunc(text):\n",
    "    doc = load_model(text)\n",
    "    allowed_tags = ['NOUN', 'PROPN']        # to get only nouns and proper nouns\n",
    "    return \" \".join([token.lemma_.lower() for token in doc if token.pos_ in allowed_tags \\\n",
    "                          and token.text not in myStopwords\n",
    "                          ])\n",
    "\n",
    "df['positive_comments'] = df['positive_comments'].apply(lambda x: lemmaFunc(x))\n",
    "df['negative_comments'] = df['negative_comments'].apply(lambda x: lemmaFunc(x))"
   ]
  },
  {
   "cell_type": "code",
   "execution_count": 39,
   "metadata": {},
   "outputs": [],
   "source": [
    "'''\n",
    "Create column with country name; we get the list of countries from the pycountry package\n",
    "and use the hotel_address column to extract country name\n",
    "'''\n",
    "\n",
    "df['country'] = df[\"hotel_address\"].apply(\n",
    "    lambda address: ' '.join([c.name for c in pycountry.countries if c.name in address])\n",
    "    )\n",
    "\n",
    "# use the review_date column to extract the year and store in new column\n",
    "df['year'] = pd.DatetimeIndex(df['review_date']).year"
   ]
  },
  {
   "cell_type": "code",
   "execution_count": 42,
   "metadata": {},
   "outputs": [],
   "source": [
    "'''\n",
    "In this step we deal with the tags column using the steps defined below:\n",
    "    1. Define tags we are interested in\n",
    "    2. Define a function to apply to tags column to remove tags we are not interested in by:\n",
    "            - Converting the individual row values to list (from string) e.g. \"[' Leisure trip ']\" -> [' leisure trip ']\n",
    "            - Strip the whitespaces from individual elements e.g. [' leisure trip ']-> ['leisure trip']\n",
    "            - Drop tags we are not interested in\n",
    "'''\n",
    "\n",
    "# customer tags we are interested in\n",
    "customer_tags = ['solo traveler','group','business trip','leisure trip','couple','family with young children']\n",
    "\n",
    "\n",
    "def clean_tag(x):\n",
    "\n",
    "    # convert value from string to a list\n",
    "    myTags = ast.literal_eval(x.lower())\n",
    "\n",
    "    # strip whitespaces from elements and drop those we are not interested in\n",
    "    myTags = [customerTag.strip() for customerTag in myTags if customerTag.strip() in customer_tags]\n",
    "\n",
    "    return myTags\n",
    "\n",
    "\n",
    "# apply clean_tag() function to the tags column\n",
    "df['tags'] = df['tags'].apply(lambda x: clean_tag(x))\n",
    "\n",
    "\n",
    "'''\n",
    "Function applied to tags column to extract new columns for customer categories\n",
    "Lambda function will be used as in the steps below\n",
    "'''\n",
    "\n",
    "def split_tag(x:list, tagName:str) -> int:\n",
    "    \n",
    "    t = [1 if tagName in x else 0][0]\n",
    "    \n",
    "    return t\n",
    "\n",
    "# dictionary of column names (new additional columns) and customer tags (as contained in tags of interest)\n",
    "tagDict = {\n",
    "    'solo_traveler' : 'solo traveler',\n",
    "    'group' : 'group',\n",
    "    'business_trip' : 'business trip',\n",
    "    'leisure_trip' : 'leisure trip',\n",
    "    'couple' : 'couple',\n",
    "    'family_with_young_children' : 'family with young children'\n",
    "}\n",
    "\n",
    "# applying function on tags column to get new separated columns\n",
    "for key, value in tagDict.items():\n",
    "    df[key] = df['tags'].apply(lambda x: split_tag(x, value))"
   ]
  },
  {
   "cell_type": "code",
   "execution_count": 96,
   "metadata": {},
   "outputs": [],
   "source": [
    "'''\n",
    "Getting word frequencies using CountVectorizer from sklearn\n",
    "'''\n",
    "\n",
    "vecPos = CountVectorizer(\n",
    "                        strip_accents='ascii', stop_words='english', ngram_range=(1,1),\n",
    "                        analyzer='word', max_df=0.95,max_features=50\n",
    "                        )\n",
    "\n",
    "vecNeg = CountVectorizer(max_df=0.85, ngram_range=(1,2), max_features=50)\n",
    "\n",
    "sparseVecPos = vecPos.fit_transform(df['positive_comments'])   # You can fit and transform jointly \n",
    "sparseVecNeg = vecNeg.fit_transform(df['negative_comments'])\n",
    "\n",
    "matPos = pd.DataFrame(sparseVecPos.toarray(), columns=vecPos.get_feature_names_out())\n",
    "matNeg = pd.DataFrame(sparseVecNeg.toarray(), columns=vecNeg.get_feature_names_out())"
   ]
  },
  {
   "cell_type": "code",
   "execution_count": 97,
   "metadata": {},
   "outputs": [
    {
     "data": {
      "text/plain": [
       "room        61\n",
       "location    39\n",
       "park        38\n",
       "staff       35\n",
       "bed         29\n",
       "dtype: int64"
      ]
     },
     "execution_count": 97,
     "metadata": {},
     "output_type": "execute_result"
    }
   ],
   "source": [
    "# 1a. What are the top five hotel features (e.g., location, staff, etc.) that customers mention the most in positive reviews\n",
    "matPos.agg(sum).sort_values(ascending=False)[:5]"
   ]
  },
  {
   "cell_type": "code",
   "execution_count": 98,
   "metadata": {},
   "outputs": [
    {
     "data": {
      "text/plain": [
       "room         116\n",
       "bathroom      22\n",
       "breakfast     20\n",
       "floor         18\n",
       "shower        16\n",
       "dtype: int64"
      ]
     },
     "execution_count": 98,
     "metadata": {},
     "output_type": "execute_result"
    }
   ],
   "source": [
    "# 1b. What are the top five hotel features (e.g., location, staff, etc.) that customers mention the most in negative reviews\n",
    "matNeg.agg(sum).sort_values(ascending=False)[:5]"
   ]
  },
  {
   "cell_type": "code",
   "execution_count": 125,
   "metadata": {},
   "outputs": [],
   "source": [
    "'''\n",
    "What are the top five features that customers prefer most if they are a solo traveler vs traveling with a \n",
    "group vs on a business trip vs a leisure trip vs traveling as a couple vs a family with young children.\n",
    "'''\n",
    "# indices of customer group data subsets (by travel tag)\n",
    "soloIndex = df.index[df.solo_traveler != 0] # solo_traveler\n",
    "groupIndex = df.index[df.group != 0] # group\n",
    "businessIndex = df.index[df.business_trip != 0] # business_trip\n",
    "leisureIndex = df.index[df.leisure_trip != 0] # leisure_trip\n",
    "coupleIndex = df.index[df.couple != 0] # couple\n",
    "familyIndex = df.index[df.family_with_young_children != 0] # family_with_young_children\n"
   ]
  },
  {
   "cell_type": "code",
   "execution_count": 123,
   "metadata": {},
   "outputs": [
    {
     "data": {
      "text/plain": [
       "location     7\n",
       "room         6\n",
       "style        4\n",
       "breakfast    4\n",
       "park         3\n",
       "dtype: int64"
      ]
     },
     "execution_count": 123,
     "metadata": {},
     "output_type": "execute_result"
    }
   ],
   "source": [
    "# solo\n",
    "matPos.iloc[soloIndex].agg(sum).sort_values(ascending=False)[:5]"
   ]
  },
  {
   "cell_type": "code",
   "execution_count": 126,
   "metadata": {},
   "outputs": [
    {
     "data": {
      "text/plain": [
       "room          12\n",
       "park           5\n",
       "building       5\n",
       "restaurant     4\n",
       "staff          4\n",
       "dtype: int64"
      ]
     },
     "execution_count": 126,
     "metadata": {},
     "output_type": "execute_result"
    }
   ],
   "source": [
    "# group\n",
    "matPos.iloc[groupIndex].agg(sum).sort_values(ascending=False)[:5]"
   ]
  },
  {
   "cell_type": "code",
   "execution_count": 112,
   "metadata": {},
   "outputs": [
    {
     "data": {
      "text/plain": [
       "room        5\n",
       "park        4\n",
       "style       4\n",
       "location    4\n",
       "building    3\n",
       "dtype: int64"
      ]
     },
     "execution_count": 112,
     "metadata": {},
     "output_type": "execute_result"
    }
   ],
   "source": [
    "# business\n",
    "matPos.iloc[businessIndex].agg(sum).sort_values(ascending=False)[:5]"
   ]
  },
  {
   "cell_type": "code",
   "execution_count": 113,
   "metadata": {},
   "outputs": [
    {
     "data": {
      "text/plain": [
       "room        55\n",
       "staff       34\n",
       "location    34\n",
       "park        33\n",
       "bed         28\n",
       "dtype: int64"
      ]
     },
     "execution_count": 113,
     "metadata": {},
     "output_type": "execute_result"
    }
   ],
   "source": [
    "# leisure\n",
    "matPos.iloc[leisureIndex].agg(sum).sort_values(ascending=False)[:5]"
   ]
  },
  {
   "cell_type": "code",
   "execution_count": 114,
   "metadata": {},
   "outputs": [
    {
     "data": {
      "text/plain": [
       "room        40\n",
       "park        27\n",
       "staff       24\n",
       "location    24\n",
       "bed         23\n",
       "dtype: int64"
      ]
     },
     "execution_count": 114,
     "metadata": {},
     "output_type": "execute_result"
    }
   ],
   "source": [
    "# couple\n",
    "matPos.iloc[coupleIndex].agg(sum).sort_values(ascending=False)[:5]"
   ]
  },
  {
   "cell_type": "code",
   "execution_count": 115,
   "metadata": {},
   "outputs": [
    {
     "data": {
      "text/plain": [
       "location     6\n",
       "staff        5\n",
       "room         3\n",
       "park         3\n",
       "breakfast    2\n",
       "dtype: int64"
      ]
     },
     "execution_count": 115,
     "metadata": {},
     "output_type": "execute_result"
    }
   ],
   "source": [
    "# family with young children\n",
    "matPos.iloc[familyIndex].agg(sum).sort_values(ascending=False)[:5]"
   ]
  },
  {
   "cell_type": "code",
   "execution_count": null,
   "metadata": {},
   "outputs": [],
   "source": [
    "'''\n",
    "What are the top five features customers like most and top five features they complain about most about hotels \n",
    "in United Kingdom, France, Italy, and Spain? Country information is available inside Hotel_Address. (2 points)\n",
    "'''"
   ]
  },
  {
   "cell_type": "code",
   "execution_count": 147,
   "metadata": {},
   "outputs": [
    {
     "name": "stdout",
     "output_type": "stream",
     "text": [
      "access     0.0\n",
      "room       0.0\n",
      "morning    0.0\n",
      "museum     0.0\n",
      "park       0.0\n",
      "dtype: float64\n",
      "\n",
      "\n",
      "area         0.0\n",
      "sound        0.0\n",
      "place        0.0\n",
      "price        0.0\n",
      "reception    0.0\n",
      "dtype: float64\n"
     ]
    }
   ],
   "source": [
    "# United Kingdom likes/complaints\n",
    "print(matPos.iloc[df.index[df.country == 'United Kingdom']].agg(sum).sort_values(ascending=False)[:5])\n",
    "print('\\n')\n",
    "print(matNeg.iloc[df.index[df.country == 'United Kingdom']].agg(sum).sort_values(ascending=False)[:5])"
   ]
  },
  {
   "cell_type": "code",
   "execution_count": 148,
   "metadata": {},
   "outputs": [
    {
     "name": "stdout",
     "output_type": "stream",
     "text": [
      "access     0.0\n",
      "room       0.0\n",
      "morning    0.0\n",
      "museum     0.0\n",
      "park       0.0\n",
      "dtype: float64\n",
      "\n",
      "\n",
      "area         0.0\n",
      "sound        0.0\n",
      "place        0.0\n",
      "price        0.0\n",
      "reception    0.0\n",
      "dtype: float64\n"
     ]
    }
   ],
   "source": [
    "# France likes/complaints\n",
    "print(matPos.iloc[df.index[df.country == 'France']].agg(sum).sort_values(ascending=False)[:5])\n",
    "print('\\n')\n",
    "print(matNeg.iloc[df.index[df.country == 'France']].agg(sum).sort_values(ascending=False)[:5])"
   ]
  },
  {
   "cell_type": "code",
   "execution_count": 149,
   "metadata": {},
   "outputs": [
    {
     "name": "stdout",
     "output_type": "stream",
     "text": [
      "access     0.0\n",
      "room       0.0\n",
      "morning    0.0\n",
      "museum     0.0\n",
      "park       0.0\n",
      "dtype: float64\n",
      "\n",
      "\n",
      "area         0.0\n",
      "sound        0.0\n",
      "place        0.0\n",
      "price        0.0\n",
      "reception    0.0\n",
      "dtype: float64\n"
     ]
    }
   ],
   "source": [
    "# Italy likes/complaints\n",
    "print(matPos.iloc[df.index[df.country == 'Italy']].agg(sum).sort_values(ascending=False)[:5])\n",
    "print('\\n')\n",
    "print(matNeg.iloc[df.index[df.country == 'Italy']].agg(sum).sort_values(ascending=False)[:5])"
   ]
  },
  {
   "cell_type": "code",
   "execution_count": 150,
   "metadata": {},
   "outputs": [
    {
     "name": "stdout",
     "output_type": "stream",
     "text": [
      "access     0.0\n",
      "room       0.0\n",
      "morning    0.0\n",
      "museum     0.0\n",
      "park       0.0\n",
      "dtype: float64\n",
      "\n",
      "\n",
      "access     0.0\n",
      "room       0.0\n",
      "morning    0.0\n",
      "museum     0.0\n",
      "park       0.0\n",
      "dtype: float64\n"
     ]
    }
   ],
   "source": [
    "# Spain likes/complaints\n",
    "print(matPos.iloc[df.index[df.country == 'Spain']].agg(sum).sort_values(ascending=False)[:5])\n",
    "print('\\n')\n",
    "print(matPos.iloc[df.index[df.country == 'Spain']].agg(sum).sort_values(ascending=False)[:5])"
   ]
  },
  {
   "cell_type": "code",
   "execution_count": null,
   "metadata": {},
   "outputs": [],
   "source": []
  }
 ],
 "metadata": {
  "kernelspec": {
   "display_name": "Python 3.9.13 64-bit (microsoft store)",
   "language": "python",
   "name": "python3"
  },
  "language_info": {
   "codemirror_mode": {
    "name": "ipython",
    "version": 3
   },
   "file_extension": ".py",
   "mimetype": "text/x-python",
   "name": "python",
   "nbconvert_exporter": "python",
   "pygments_lexer": "ipython3",
   "version": "3.9.13"
  },
  "orig_nbformat": 4,
  "vscode": {
   "interpreter": {
    "hash": "bfe9ce709e982859ebd8c1b094ee35d9f73a27801040ad55cc46450c9d5cadda"
   }
  }
 },
 "nbformat": 4,
 "nbformat_minor": 2
}
